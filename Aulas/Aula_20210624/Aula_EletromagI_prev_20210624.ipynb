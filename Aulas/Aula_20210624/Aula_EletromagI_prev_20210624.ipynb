{
 "cells": [
  {
   "cell_type": "markdown",
   "metadata": {
    "slideshow": {
     "slide_type": "slide"
    }
   },
   "source": [
    "# Disciplina - DQF10648 Eletromagnetismo I\n",
    "## Aula em 24/06/2021 - Semestre 2021/1 EARTE\n",
    "### [DQF - CCENS](http://alegre.ufes.br/ccens/departamento-de-quimica-e-fisica) - [UFES/Alegre](http://alegre.ufes.br/)"
   ]
  },
  {
   "cell_type": "markdown",
   "metadata": {
    "slideshow": {
     "slide_type": "subslide"
    }
   },
   "source": [
    "# Mostrando as Aulas no Repositório de Eletromagnetismo I"
   ]
  },
  {
   "cell_type": "markdown",
   "metadata": {
    "slideshow": {
     "slide_type": "fragment"
    }
   },
   "source": [
    "Vide [aula anterior, de 22/06/2021](https://github.com/rcolistete/Eletromagnetismo_I_UFES_Alegre/tree/master/Aulas/Aula_20210622), explicando as versões :\n",
    "- prévia/prevista (antes da aula);\n",
    "- revisada (após a aula)."
   ]
  },
  {
   "cell_type": "markdown",
   "metadata": {
    "slideshow": {
     "slide_type": "slide"
    }
   },
   "source": [
    "# Coordenadas Curvilíneas (recapitulação rápida da aula anterior)"
   ]
  },
  {
   "cell_type": "markdown",
   "metadata": {
    "slideshow": {
     "slide_type": "fragment"
    }
   },
   "source": [
    "Sobre coordenadas cartesianas, polares, cilíndricas e esféricas, vide :"
   ]
  },
  {
   "cell_type": "markdown",
   "metadata": {
    "slideshow": {
     "slide_type": "fragment"
    }
   },
   "source": [
    "- [referências](https://github.com/rcolistete/Eletromagnetismo_I_UFES_Alegre/blob/master/Bibliografia.md) [Griffiths], [Barcarena3], [Marques] e [Silveira];"
   ]
  },
  {
   "cell_type": "markdown",
   "metadata": {
    "slideshow": {
     "slide_type": "fragment"
    }
   },
   "source": [
    "- demonstrações gráficas gratuitas no site [Wolfram Demonstrations](https://demonstrations.wolfram.com/);"
   ]
  },
  {
   "cell_type": "markdown",
   "metadata": {
    "slideshow": {
     "slide_type": "fragment"
    }
   },
   "source": [
    "Note que a [referência](https://github.com/rcolistete/Eletromagnetismo_I_UFES_Alegre/blob/master/Bibliografia.md) :\n",
    "- [Barcarena3] usa coordenadas generalizadas (como sinônimo de curvilíneas) $q_i$."
   ]
  },
  {
   "cell_type": "markdown",
   "metadata": {
    "slideshow": {
     "slide_type": "slide"
    }
   },
   "source": [
    "## Fatores de escala $h_i$ e vetores base unitários $\\hat{e}_i$"
   ]
  },
  {
   "cell_type": "markdown",
   "metadata": {
    "slideshow": {
     "slide_type": "fragment"
    }
   },
   "source": [
    "Para se calcular os fatores de escala (ou escalares) $h_i$ e vetores base unitários $\\hat{e}_i$ respectivos a um sistema de coordenadas curvilíneas $u_i$, deve-se :"
   ]
  },
  {
   "cell_type": "markdown",
   "metadata": {
    "slideshow": {
     "slide_type": "fragment"
    }
   },
   "source": [
    "- inicialmente saber transformar das coordenadas curvilíneas $u_i$ para o sistema de coordenadas cartesianas; "
   ]
  },
  {
   "cell_type": "markdown",
   "metadata": {
    "slideshow": {
     "slide_type": "fragment"
    }
   },
   "source": [
    "- depois calcular derivadas parciais em relação às coordenadas curvilíneas $u_i$. "
   ]
  },
  {
   "cell_type": "markdown",
   "metadata": {
    "slideshow": {
     "slide_type": "fragment"
    }
   },
   "source": [
    "Considerando espaço de 3 dimensões, $i$ tem valores inteiros $1$, $2$ e $3$."
   ]
  },
  {
   "cell_type": "markdown",
   "metadata": {
    "slideshow": {
     "slide_type": "fragment"
    }
   },
   "source": [
    "Em 5 passos, bem detalhadamente, considerando espaço de 3 dimensões :"
   ]
  },
  {
   "cell_type": "markdown",
   "metadata": {
    "slideshow": {
     "slide_type": "subslide"
    }
   },
   "source": [
    "1) liste as equações de transformação de coordenadas curvilíneas $u_i$ para coordenadas cartesianas :"
   ]
  },
  {
   "cell_type": "markdown",
   "metadata": {
    "slideshow": {
     "slide_type": "fragment"
    }
   },
   "source": [
    "$$ x = m(u_1, u_2, u_3)$$"
   ]
  },
  {
   "cell_type": "markdown",
   "metadata": {
    "slideshow": {
     "slide_type": "fragment"
    }
   },
   "source": [
    "$$ y = n(u_1, u_2, u_3)$$"
   ]
  },
  {
   "cell_type": "markdown",
   "metadata": {
    "slideshow": {
     "slide_type": "fragment"
    }
   },
   "source": [
    "$$ z = p(u_1, u_2, u_3)$$"
   ]
  },
  {
   "cell_type": "markdown",
   "metadata": {
    "slideshow": {
     "slide_type": "subslide"
    }
   },
   "source": [
    "2) escreva o vetor posição $\\vec{r}$ em termos de coordenadas cartesianas e depois substitua as componentes por expressões em coordenadas curvilíneas $u_i$ :"
   ]
  },
  {
   "cell_type": "markdown",
   "metadata": {
    "slideshow": {
     "slide_type": "fragment"
    }
   },
   "source": [
    "$$ \\vec{r} = \\vec{r}(x, y, z) = x\\,\\hat{i} + y\\,\\hat{j} + z\\,\\hat{k} \\,\\,\\,\\rightarrow$$"
   ]
  },
  {
   "cell_type": "markdown",
   "metadata": {
    "slideshow": {
     "slide_type": "fragment"
    }
   },
   "source": [
    "$$ \\rightarrow \\,\\,\\,\\vec{r} = m(u_1, u_2, u_3)\\,\\hat{i} + n(u_1, u_2, u_3)\\,\\hat{j} + p(u_1, u_2, u_3)\\,\\hat{k}$$"
   ]
  },
  {
   "cell_type": "markdown",
   "metadata": {
    "slideshow": {
     "slide_type": "subslide"
    }
   },
   "source": [
    "3) calcule a derivada parcial (primeira) de $\\vec{r}$ em relação a cada coordenada curvilínea $u_i$ :"
   ]
  },
  {
   "cell_type": "markdown",
   "metadata": {
    "slideshow": {
     "slide_type": "fragment"
    }
   },
   "source": [
    "$$ \\frac{\\partial\\,\\vec{r}}{\\partial u_i} \\,\\,\\,\\rightarrow$$"
   ]
  },
  {
   "cell_type": "markdown",
   "metadata": {
    "slideshow": {
     "slide_type": "fragment"
    }
   },
   "source": [
    "$$ \\rightarrow \\,\\,\\, \\frac{\\partial \\vec{r}}{\\partial u_i} = \\frac{\\partial m(u_1, u_2, u_3)}{\\partial u_i}\\,\\hat{i} + \\frac{\\partial n(u_1, u_2, u_3)}{\\partial u_i}\\,\\hat{j} + \\frac{\\partial p(u_1, u_2, u_3)}{\\partial u_i}\\,\\hat{k} $$"
   ]
  },
  {
   "cell_type": "markdown",
   "metadata": {
    "slideshow": {
     "slide_type": "fragment"
    }
   },
   "source": [
    "ou seja, são $3$ derivadas parciais de $\\vec{r}$ em espaço $3$-dimensional, pois são $N$ derivadas parciais de $\\vec{r}$ em espaço $N$-dimensional."
   ]
  },
  {
   "cell_type": "markdown",
   "metadata": {
    "slideshow": {
     "slide_type": "subslide"
    }
   },
   "source": [
    "4) o fator de escala $h_i$ respectivo à coordenada curvilínea $u_i$ é o módulo da derivada parcial (primeira) de $\\vec{r}$ em relação à coordenada curvilínea $u_i$ :"
   ]
  },
  {
   "cell_type": "markdown",
   "metadata": {
    "slideshow": {
     "slide_type": "fragment"
    }
   },
   "source": [
    "$$ h_i = \\left| \\frac{\\partial \\vec{r}}{\\partial u_i}\\right| \\,\\,\\,\\rightarrow $$"
   ]
  },
  {
   "cell_type": "markdown",
   "metadata": {
    "slideshow": {
     "slide_type": "fragment"
    }
   },
   "source": [
    "$$ \\rightarrow \\,\\,\\, h_i = \n",
    "\\left|\\, \\frac{\\partial x}{\\partial u_i}\\,\\hat{i} + \\frac{\\partial y}{\\partial u_i}\\,\\hat{j} + \\frac{\\partial z}{\\partial u_i}\\,\\hat{k}\\, \\right| = \n",
    "\\sqrt{ \\left[\\frac{\\partial x}{\\partial u_i}\\right]^2 + \\left[\\frac{\\partial y}{\\partial u_i}\\right]^2  + \\left[\\frac{\\partial z}{\\partial u_i}\\right]^2 } $$"
   ]
  },
  {
   "cell_type": "markdown",
   "metadata": {
    "slideshow": {
     "slide_type": "fragment"
    }
   },
   "source": [
    "$$ \\rightarrow \\,\\,\\, h_i = \\sqrt{ \\left[ \\frac{\\partial m(u_1, u_2, u_3)}{\\partial u_i} \\right]^2 + \\left[ \\frac{\\partial n(u_1, u_2, u_3)}{\\partial u_i}\\right]^2 + \\left[\\frac{\\partial p(u_1, u_2, u_3)}{\\partial u_i}\\right]^2 } $$"
   ]
  },
  {
   "cell_type": "markdown",
   "metadata": {
    "slideshow": {
     "slide_type": "subslide"
    }
   },
   "source": [
    "Vide [referência](https://github.com/rcolistete/Eletromagnetismo_I_UFES_Alegre/blob/master/Bibliografia.md) [Barcarena3], seção \"5.1.3 Coordenadas Ortogonais\" e anteriores, para obter a origem da expressão de $h_i$."
   ]
  },
  {
   "cell_type": "markdown",
   "metadata": {
    "slideshow": {
     "slide_type": "fragment"
    }
   },
   "source": [
    "O fator de escala $h_i$ é utilizado para calcular, em coordenadas curvilíneas :"
   ]
  },
  {
   "cell_type": "markdown",
   "metadata": {
    "slideshow": {
     "slide_type": "fragment"
    }
   },
   "source": [
    "- elemento diferencial de linha $dl$ (em integrais de linha, etc);\n",
    "- elemento diferencial de área $dA$ (em integrais de superfície, etc);\n",
    "- elemento diferencial de volume $dV$ (em integrais de volume, etc);\n",
    "- jacobiano;\n",
    "- gradiente;\n",
    "- divergente;\n",
    "- rotacional;\n",
    "- laplaciano;\n",
    "- etc. "
   ]
  },
  {
   "cell_type": "markdown",
   "metadata": {
    "slideshow": {
     "slide_type": "subslide"
    }
   },
   "source": [
    "5) o vetor base unitário $\\hat{e}_i$ é a derivada parcial (primeira) de $\\vec{r}$ em relação à coordenada curvilínea $u_i$, normalizada, ou seja, dividida pelo módulo (= fator de escala $h_i$) :"
   ]
  },
  {
   "cell_type": "markdown",
   "metadata": {
    "slideshow": {
     "slide_type": "fragment"
    }
   },
   "source": [
    "$$ \\frac{\\partial \\vec{r}}{\\partial u_i} = h_i\\,\\hat{e}_i $$"
   ]
  },
  {
   "cell_type": "markdown",
   "metadata": {
    "slideshow": {
     "slide_type": "fragment"
    }
   },
   "source": [
    "que é um vetor tangente à curva $u_i$. Depois veremos gráficos das curvas $u_i$ para certos sistemas de coordenadas curvilíneas, por enquanto vide [referência](https://github.com/rcolistete/Eletromagnetismo_I_UFES_Alegre/blob/master/Bibliografia.md) [Silveira]), página 19 sobre coordenadas cilíndricas e página 26 sobre coordenadas esféricas. "
   ]
  },
  {
   "cell_type": "markdown",
   "metadata": {
    "slideshow": {
     "slide_type": "fragment"
    }
   },
   "source": [
    "Evidenciando vetor base unitário $\\hat{e}_i$, temos então :"
   ]
  },
  {
   "cell_type": "markdown",
   "metadata": {
    "slideshow": {
     "slide_type": "fragment"
    }
   },
   "source": [
    "$$ \\hat{e}_i = \\frac{1}{h_i} \\frac{\\partial \\vec{r}}{\\partial u_i} $$"
   ]
  },
  {
   "cell_type": "markdown",
   "metadata": {
    "slideshow": {
     "slide_type": "slide"
    }
   },
   "source": [
    "## Exemplo : calculando $h_i$ e  $\\hat{e}_i$ para coordenadas polares $(\\rho, \\theta)$"
   ]
  },
  {
   "cell_type": "markdown",
   "metadata": {
    "slideshow": {
     "slide_type": "fragment"
    }
   },
   "source": [
    "1) liste as equações de transformação de coordenadas curvilíneas polares $u_i$, ou seja, $(\\rho, \\theta)$ para coordenadas cartesianas $(x, y)$ :"
   ]
  },
  {
   "cell_type": "markdown",
   "metadata": {
    "slideshow": {
     "slide_type": "fragment"
    }
   },
   "source": [
    "$$ x = m(u_1, u_2) = m(\\rho, \\theta) = \\rho \\cos \\theta $$"
   ]
  },
  {
   "cell_type": "markdown",
   "metadata": {
    "slideshow": {
     "slide_type": "fragment"
    }
   },
   "source": [
    "$$ y = n(u_1, u_2) = n(\\rho, \\theta) = \\rho \\sin \\theta $$"
   ]
  },
  {
   "cell_type": "markdown",
   "metadata": {
    "slideshow": {
     "slide_type": "subslide"
    }
   },
   "source": [
    "2) escreva o vetor posição $\\vec{r}$ em termos de coordenadas cartesianas $(x, y)$ e depois substitua as componentes por expressões em coordenadas curvilíneas polares $u_i$, ou seja, $(\\rho, \\theta)$ :"
   ]
  },
  {
   "cell_type": "markdown",
   "metadata": {
    "slideshow": {
     "slide_type": "fragment"
    }
   },
   "source": [
    "$$ \\vec{r} = \\vec{r}(x, y) = x\\,\\hat{i} + y\\,\\hat{j}$$"
   ]
  },
  {
   "cell_type": "markdown",
   "metadata": {
    "slideshow": {
     "slide_type": "fragment"
    }
   },
   "source": [
    "$$ \\vec{r} = m(u_1, u_2)\\,\\hat{i} + n(u_1, u_2)\\,\\hat{j} = m(\\rho, \\theta)\\,\\hat{i} + n(\\rho, \\theta)\\,\\hat{j} $$"
   ]
  },
  {
   "cell_type": "markdown",
   "metadata": {
    "slideshow": {
     "slide_type": "fragment"
    }
   },
   "source": [
    "$$ \\vec{r} = \\rho \\cos \\theta\\,\\hat{i} + \\rho \\sin \\theta\\,\\hat{j} $$"
   ]
  },
  {
   "cell_type": "markdown",
   "metadata": {
    "slideshow": {
     "slide_type": "subslide"
    }
   },
   "source": [
    "3) calcule a derivada parcial (primeira) de $\\vec{r}$ em relação a cada coordenada curvilínea polar $u_i$, ou seja, $(\\rho, \\theta)$ :"
   ]
  },
  {
   "cell_type": "markdown",
   "metadata": {
    "slideshow": {
     "slide_type": "fragment"
    }
   },
   "source": [
    "$$ \\frac{\\partial \\vec{r}}{\\partial u_i} = \\frac{\\partial m(u_1, u_2)}{\\partial u_i}\\,\\hat{i} + \\frac{\\partial n(u_1, u_2)}{\\partial u_i}\\,\\hat{j} = \\frac{\\partial m(\\rho, \\theta)}{\\partial u_i}\\,\\hat{i} + \\frac{\\partial n(\\rho, \\theta)}{\\partial u_i}\\,\\hat{j} $$"
   ]
  },
  {
   "cell_type": "markdown",
   "metadata": {
    "slideshow": {
     "slide_type": "fragment"
    }
   },
   "source": [
    "$$ \\frac{\\partial \\vec{r}}{\\partial u_i} = \\frac{\\partial \\left(\\rho \\cos \\theta\\right)}{\\partial u_i}\\,\\hat{i} + \\frac{\\partial \\left(\\rho \\sin \\theta\\right)}{\\partial u_i}\\,\\hat{j} $$"
   ]
  },
  {
   "cell_type": "markdown",
   "metadata": {
    "slideshow": {
     "slide_type": "subslide"
    }
   },
   "source": [
    "aplicando a derivada parcial para cada coordenada curvilínea polar $(\\rho, \\theta)$ :"
   ]
  },
  {
   "cell_type": "markdown",
   "metadata": {
    "slideshow": {
     "slide_type": "fragment"
    }
   },
   "source": [
    "$$ \\frac{\\partial \\vec{r}}{\\partial \\rho} = \\frac{\\partial \\left(\\rho \\cos \\theta\\right)}{\\partial \\rho}\\,\\hat{i} + \\frac{\\partial \\left(\\rho \\sin \\theta\\right)}{\\partial \\rho}\\,\\hat{j} = \\cos \\theta\\,\\hat{i} + \\sin \\theta\\,\\hat{j} $$"
   ]
  },
  {
   "cell_type": "markdown",
   "metadata": {
    "slideshow": {
     "slide_type": "fragment"
    }
   },
   "source": [
    "$$ \\frac{\\partial \\vec{r}}{\\partial \\theta} = \\frac{\\partial \\left(\\rho \\cos \\theta\\right)}{\\partial \\theta}\\,\\hat{i} + \\frac{\\partial \\left(\\rho \\sin \\theta\\right)}{\\partial \\theta}\\,\\hat{j} = - \\rho \\sin \\theta\\,\\hat{i} + \\rho \\cos \\theta\\,\\hat{j} $$"
   ]
  },
  {
   "cell_type": "markdown",
   "metadata": {
    "slideshow": {
     "slide_type": "subslide"
    }
   },
   "source": [
    "4) o fator de escala $h_i$ é o módulo da derivada parcial (primeira) de $\\vec{r}$ em relação à coordenada curvilínea polar $(\\rho, \\theta)$ :"
   ]
  },
  {
   "cell_type": "markdown",
   "metadata": {
    "slideshow": {
     "slide_type": "fragment"
    }
   },
   "source": [
    "$$ h_i = \\left| \\frac{\\partial \\vec{r}}{\\partial u_i} \\right| = \\left|\\, \\frac{\\partial \\left(\\rho \\cos \\theta\\right)}{\\partial u_i}\\,\\hat{i} + \\frac{\\partial \\left(\\rho \\sin \\theta\\right)}{\\partial u_i}\\,\\hat{j}\\, \\right| $$"
   ]
  },
  {
   "cell_type": "markdown",
   "metadata": {
    "slideshow": {
     "slide_type": "subslide"
    }
   },
   "source": [
    "$h_i$ cada coordenada curvilínea polar $(\\rho, \\theta)$ :"
   ]
  },
  {
   "cell_type": "markdown",
   "metadata": {
    "slideshow": {
     "slide_type": "fragment"
    }
   },
   "source": [
    "$$ h_\\rho = \\left| \\frac{\\partial \\vec{r}}{\\partial \\rho} \\right| = \\left|\\, \\frac{\\partial \\left(\\rho \\cos \\theta\\right)}{\\partial \\rho}\\,\\hat{i} + \\frac{\\partial \\left(\\rho \\sin \\theta\\right)}{\\partial \\rho}\\,\\hat{j}\\, \\right| $$"
   ]
  },
  {
   "cell_type": "markdown",
   "metadata": {
    "slideshow": {
     "slide_type": "fragment"
    }
   },
   "source": [
    "$$ h_\\rho = \\left|\\, \\cos \\theta\\,\\hat{i} + \\sin \\theta\\,\\hat{j}\\, \\right| = \\sqrt{(\\cos \\theta)^2 + (\\sin \\theta)^2} $$"
   ]
  },
  {
   "cell_type": "markdown",
   "metadata": {
    "slideshow": {
     "slide_type": "fragment"
    }
   },
   "source": [
    "$$ h_\\rho = 1 $$"
   ]
  },
  {
   "cell_type": "markdown",
   "metadata": {
    "slideshow": {
     "slide_type": "subslide"
    }
   },
   "source": [
    "$$ h_\\theta = \\left| \\frac{\\partial \\vec{r}}{\\partial \\theta} \\right| = \\left|\\, \\frac{\\partial \\left(\\rho \\cos \\theta\\right)}{\\partial \\theta}\\,\\hat{i} + \\frac{\\partial \\left(\\rho \\sin \\theta\\right)}{\\partial \\theta}\\,\\hat{j}\\, \\right| $$"
   ]
  },
  {
   "cell_type": "markdown",
   "metadata": {
    "slideshow": {
     "slide_type": "fragment"
    }
   },
   "source": [
    "$$ h_\\theta = \\left|\\, - \\rho \\sin \\theta\\,\\hat{i} + \\rho \\cos \\theta\\,\\hat{j}\\, \\right| = \\sqrt{(- \\rho \\sin \\theta)^2 + (\\rho \\cos \\theta)^2} $$"
   ]
  },
  {
   "cell_type": "markdown",
   "metadata": {
    "slideshow": {
     "slide_type": "fragment"
    }
   },
   "source": [
    "$$ h_\\theta = \\sqrt{\\rho^2 (\\sin \\theta)^2 + \\rho^2 (\\cos \\theta)^2} = \\sqrt{\\rho^2} = \\left|\\,  \\rho\\, \\right| $$"
   ]
  },
  {
   "cell_type": "markdown",
   "metadata": {
    "slideshow": {
     "slide_type": "fragment"
    }
   },
   "source": [
    "Considerando $\\rho \\geq 0\\,m$, então :"
   ]
  },
  {
   "cell_type": "markdown",
   "metadata": {
    "slideshow": {
     "slide_type": "fragment"
    }
   },
   "source": [
    "$$ h_\\theta = \\rho $$"
   ]
  },
  {
   "cell_type": "markdown",
   "metadata": {
    "slideshow": {
     "slide_type": "subslide"
    }
   },
   "source": [
    "5) o vetor base unitário $\\hat{e}_i$ é a derivada parcial (primeira) de $\\vec{r}$ em relação à coordenada curvilínea $u_i$, normalizada, i. e., dividida pelo módulo, ou seja, pelo fator de escala $h_i$ :"
   ]
  },
  {
   "cell_type": "markdown",
   "metadata": {
    "slideshow": {
     "slide_type": "fragment"
    }
   },
   "source": [
    "$$ \\hat{e}_\\rho = \\frac{1}{h_\\rho} \\frac{\\partial\\vec{r}}{\\partial \\rho} = \\frac{1}{1} \\left[\\cos \\theta\\,\\hat{i} + \\sin \\theta\\,\\hat{j} \\right] $$"
   ]
  },
  {
   "cell_type": "markdown",
   "metadata": {
    "slideshow": {
     "slide_type": "fragment"
    }
   },
   "source": [
    "$$ \\hat{e}_\\rho = \\hat{\\rho} = \\cos \\theta\\,\\hat{i} + \\sin \\theta\\,\\hat{j} $$"
   ]
  },
  {
   "cell_type": "markdown",
   "metadata": {
    "slideshow": {
     "slide_type": "fragment"
    }
   },
   "source": [
    "$$ \\hat{e}_\\theta = \\frac{1}{h_\\theta} \\frac{\\partial \\vec{r}}{\\partial \\theta} = \\frac{1}{\\rho} \\left[- \\rho \\sin \\theta\\,\\hat{i} + \\rho \\cos \\theta\\,\\hat{j} \\right] $$"
   ]
  },
  {
   "cell_type": "markdown",
   "metadata": {
    "slideshow": {
     "slide_type": "fragment"
    }
   },
   "source": [
    "$$ \\hat{e}_\\theta = \\hat{\\theta} = - \\sin \\theta\\,\\hat{i} + \\cos \\theta\\,\\hat{j} $$"
   ]
  },
  {
   "cell_type": "markdown",
   "metadata": {
    "slideshow": {
     "slide_type": "slide"
    }
   },
   "source": [
    "## (A FAZER) Exercício :  calcule $h_i$ e  $\\hat{e}_i$ para coordenadas esféricas $(r, \\theta, \\phi)$"
   ]
  },
  {
   "cell_type": "markdown",
   "metadata": {
    "slideshow": {
     "slide_type": "fragment"
    }
   },
   "source": [
    "Exercício para os alunos apresentarem resolução completa dos cálculos e tirarem dúvidas."
   ]
  },
  {
   "cell_type": "markdown",
   "metadata": {
    "slideshow": {
     "slide_type": "slide"
    }
   },
   "source": [
    "# Operadores Diferenciais Vetoriais"
   ]
  },
  {
   "cell_type": "markdown",
   "metadata": {
    "slideshow": {
     "slide_type": "fragment"
    }
   },
   "source": [
    "Sobre os operadoradores diferenciais vetoriais gradiente, divergente, rotacional e laplaciano, vide :"
   ]
  },
  {
   "cell_type": "markdown",
   "metadata": {
    "slideshow": {
     "slide_type": "fragment"
    }
   },
   "source": [
    "- [referências](https://github.com/rcolistete/Eletromagnetismo_I_UFES_Alegre/blob/master/Bibliografia.md) [Griffiths], [Barcarena2] e [Barcarena3];"
   ]
  },
  {
   "cell_type": "markdown",
   "metadata": {
    "slideshow": {
     "slide_type": "fragment"
    }
   },
   "source": [
    "- demonstrações gráficas gratuitas no site [Wolfram Demonstrations](https://demonstrations.wolfram.com/);"
   ]
  },
  {
   "cell_type": "markdown",
   "metadata": {
    "slideshow": {
     "slide_type": "subslide"
    }
   },
   "source": [
    "## Gradiente : $\\vec{\\nabla} f$"
   ]
  },
  {
   "cell_type": "markdown",
   "metadata": {
    "slideshow": {
     "slide_type": "fragment"
    }
   },
   "source": [
    "### Teoria"
   ]
  },
  {
   "cell_type": "markdown",
   "metadata": {
    "slideshow": {
     "slide_type": "fragment"
    }
   },
   "source": [
    "Gradiente é um operador diferencial vetorial que atua sobre função escalar e gera função vetorial."
   ]
  },
  {
   "cell_type": "markdown",
   "metadata": {
    "slideshow": {
     "slide_type": "subslide"
    }
   },
   "source": [
    "Em coordenadas curvilíneas $u_i$ :\n",
    " \n",
    "$$ \\vec{\\nabla} f = \\left[ \\frac{1}{h_1}\\frac{\\partial}{\\partial u_1}\\hat{e}_1, \\frac{1}{h_2}\\frac{\\partial}{\\partial u_2}\\hat{e}_2, \\frac{1}{h_3}\\frac{\\partial}{\\partial u_3}\\hat{e}_3 \\right] f\n",
    "= \\frac{1}{h_1}\\frac{\\partial f}{\\partial u_1}\\hat{e}_1 +  \\frac{1}{h_2}\\frac{\\partial f}{\\partial u_2}\\hat{e}_2 + \\frac{1}{h_3}\\frac{\\partial f}{\\partial u_3}\\hat{e}_3 $$"
   ]
  },
  {
   "cell_type": "markdown",
   "metadata": {
    "slideshow": {
     "slide_type": "subslide"
    }
   },
   "source": [
    "Operador diferencial vetorial gradiente (grad) em coordenadas cartesianas 2D $(x, y)$ :\n",
    "\n",
    "$$\\vec{\\nabla} = \\left\\langle \\frac{\\partial}{\\partial x}, \\frac{\\partial}{\\partial y}\\right\\rangle = \\frac{\\partial}{\\partial x}\\hat{i} + \\frac{\\partial}{\\partial y}\\hat{j} $$"
   ]
  },
  {
   "cell_type": "markdown",
   "metadata": {
    "slideshow": {
     "slide_type": "fragment"
    }
   },
   "source": [
    "em coordenadas polares $(\\rho, \\theta)$ :\n",
    "\n",
    "$$\\vec{\\nabla} = \\left\\langle \\frac{\\partial }{\\partial \\rho},\\frac{1}{\\rho}\\frac{\\partial }{\\partial \\theta }\\right\\rangle = \\frac{\\partial }{\\partial \\rho}\\hat{\\rho} + \\frac{1}{\\rho}\\frac{\\partial }{\\partial \\theta }\\hat{\\theta}$$"
   ]
  },
  {
   "cell_type": "markdown",
   "metadata": {
    "slideshow": {
     "slide_type": "subslide"
    }
   },
   "source": [
    "em coordenadas cartesianas 3D $(x, y, z)$ :\n",
    "\n",
    "$$\\vec{\\nabla}=\\left\\langle \\frac{\\partial }{\\partial x}, \\frac{\\partial }{\\partial y}, \\frac{\\partial }{\\partial z}\\right\\rangle = \\frac{\\partial}{\\partial x}\\hat{i} + \\frac{\\partial}{\\partial y}\\hat{j} + \\frac{\\partial}{\\partial z}\\hat{k}$$"
   ]
  },
  {
   "cell_type": "markdown",
   "metadata": {
    "slideshow": {
     "slide_type": "fragment"
    }
   },
   "source": [
    "Em coordenadas cilíndricas $(\\rho, \\theta, z)$ :\n",
    "\n",
    "$$\\vec{\\nabla}=\\left\\langle \\frac{\\partial }{\\partial \\rho},\\frac{1}{\\rho}\\frac{\\partial }{\\partial \\theta},\\frac{\\partial }{\\partial z}\\right\\rangle = \\frac{\\partial }{\\partial \\rho}\\hat{\\rho} + \\frac{1}{\\rho}\\frac{\\partial }{\\partial \\theta }\\hat{\\theta} + \\frac{\\partial }{\\partial z}\\hat{k} $$"
   ]
  },
  {
   "cell_type": "markdown",
   "metadata": {
    "slideshow": {
     "slide_type": "subslide"
    }
   },
   "source": [
    "Em coordenadas esféricas $(r, \\theta, \\phi)$ :\n",
    "\n",
    "$$\\vec{\\nabla}=\\left\\langle \\frac{\\partial }{\\partial r},\\frac{1}{r}\\frac{\\partial }{\\partial \\theta},\\frac{1}{r sen \\theta}\\frac{\\partial }{\\partial \\phi}\\right\\rangle = \\frac{\\partial }{\\partial r}\\hat{r} + \\frac{1}{r}\\frac{\\partial }{\\partial \\theta}\\hat{\\theta} + \\frac{1}{r sen \\theta}\\frac{\\partial }{\\partial \\phi}\\hat{\\phi}$$"
   ]
  },
  {
   "cell_type": "markdown",
   "metadata": {
    "slideshow": {
     "slide_type": "slide"
    }
   },
   "source": [
    "## Divergente : $\\vec{\\nabla} \\cdot \\vec{F}$"
   ]
  },
  {
   "cell_type": "markdown",
   "metadata": {
    "slideshow": {
     "slide_type": "fragment"
    }
   },
   "source": [
    "### Teoria"
   ]
  },
  {
   "cell_type": "markdown",
   "metadata": {
    "slideshow": {
     "slide_type": "fragment"
    }
   },
   "source": [
    "Divergente é um operador diferencial vetorial que atua sobre função vetorial e gera função escalar."
   ]
  },
  {
   "cell_type": "markdown",
   "metadata": {
    "slideshow": {
     "slide_type": "subslide"
    }
   },
   "source": [
    "Em coordenadas curvilíneas $u_i$ :\n",
    " \n",
    "$$ \\vec{\\nabla} \\cdot \\vec{F} = \\frac{1}{h_1 h_2 h_3}\\left[ \\frac{\\partial\\,(F_1 h_2 h_3)}{\\partial u_1} + \\frac{\\partial\\,(F_2 h_1 h_3)}{\\partial u_2} + \\frac{\\partial\\,(F_3 h_1 h_2)}{\\partial u_e} \\right] $$"
   ]
  },
  {
   "cell_type": "markdown",
   "metadata": {
    "slideshow": {
     "slide_type": "subslide"
    }
   },
   "source": [
    "Em coordenadas cartesianas 3D $(x, y, z)$ :\n",
    "\n",
    "$$\\vec{\\nabla} \\cdot \\vec{F} = \\frac{\\partial F_x}{\\partial x} + \\frac{\\partial F_y}{\\partial y} + \\frac{\\partial F_z}{\\partial z} $$"
   ]
  },
  {
   "cell_type": "markdown",
   "metadata": {
    "slideshow": {
     "slide_type": "subslide"
    }
   },
   "source": [
    "em coordenadas cilíndricas $(\\rho, \\theta, z)$ :\n",
    "\n",
    "$$\\vec{\\nabla} \\cdot \\vec{F} = \\frac{1}{\\rho}\\frac{\\partial\\,(\\rho F_{\\rho})}{\\partial \\rho} + \\frac{1}{\\rho}\\frac{\\partial F_{\\theta}}{\\partial \\theta} + \\frac{\\partial F_z}{\\partial z} $$"
   ]
  },
  {
   "cell_type": "markdown",
   "metadata": {
    "slideshow": {
     "slide_type": "fragment"
    }
   },
   "source": [
    "em coordenadas esféricas $(r, \\theta, \\phi)$ :\n",
    "\n",
    "$$\\vec{\\nabla} \\cdot \\vec{F} = \\frac{1}{r^2} \\frac{\\partial\\,(r^2 F_r)}{\\partial r} + \\frac{1}{r sen \\theta}\\frac{\\partial\\,(sen \\theta F_{\\theta})}{\\partial \\theta} + \\frac{1}{r sen \\theta}\\frac{\\partial F_\\phi}{\\partial \\phi} $$"
   ]
  }
 ],
 "metadata": {
  "celltoolbar": "Slideshow",
  "kernelspec": {
   "display_name": "Python 3",
   "language": "python",
   "name": "python3"
  },
  "language_info": {
   "codemirror_mode": {
    "name": "ipython",
    "version": 3
   },
   "file_extension": ".py",
   "mimetype": "text/x-python",
   "name": "python",
   "nbconvert_exporter": "python",
   "pygments_lexer": "ipython3",
   "version": "3.8.6"
  }
 },
 "nbformat": 4,
 "nbformat_minor": 2
}
