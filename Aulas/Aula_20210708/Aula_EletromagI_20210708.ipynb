{
 "cells": [
  {
   "cell_type": "markdown",
   "metadata": {
    "slideshow": {
     "slide_type": "slide"
    }
   },
   "source": [
    "# Disciplina - DQF10648 Eletromagnetismo I\n",
    "## Aula em 08/07/2021 - Semestre 2021/1 EARTE\n",
    "### [DQF - CCENS](http://alegre.ufes.br/ccens/departamento-de-quimica-e-fisica) - [UFES/Alegre](http://alegre.ufes.br/)"
   ]
  },
  {
   "cell_type": "markdown",
   "metadata": {
    "slideshow": {
     "slide_type": "slide"
    }
   },
   "source": [
    "# Mudanças nas Atividades"
   ]
  },
  {
   "cell_type": "markdown",
   "metadata": {
    "slideshow": {
     "slide_type": "fragment"
    }
   },
   "source": [
    "- retirados 2 de 3 trabalhos computacionais em grupo, ficando só o de método de separação de variáveis;"
   ]
  },
  {
   "cell_type": "markdown",
   "metadata": {
    "slideshow": {
     "slide_type": "fragment"
    }
   },
   "source": [
    "- adicionados 2 trabalhos individuais conceituais, puramente dissertativos, sem uso de matemática e gráficas :\n",
    "   1. \"Interpretação de Campo Elétrico\";\n",
    "   2. \"Interpretação de Campo Magnético\";"
   ]
  },
  {
   "cell_type": "markdown",
   "metadata": {
    "slideshow": {
     "slide_type": "fragment"
    }
   },
   "source": [
    "- uso de simulações/demonstrações gráficas (Wolfram Demonstrations, etc) prontas disponíveis na Internet, para professor usar bem como alunos pesquisarem;"
   ]
  },
  {
   "cell_type": "markdown",
   "metadata": {
    "slideshow": {
     "slide_type": "subslide"
    }
   },
   "source": [
    "- maior ênfase em gráficos para visualizar as grandezas do Eletromagnetismo :\n",
    "  * campos vetoriais 2D e 3D;\n",
    "  * curvas e superfícies equipotenciais;\n",
    "  * até mesmo animação gráfica;"
   ]
  },
  {
   "cell_type": "markdown",
   "metadata": {
    "slideshow": {
     "slide_type": "fragment"
    }
   },
   "source": [
    "- alguns trabalhos individuais foram convertidos para trabalhos em grupo;"
   ]
  },
  {
   "cell_type": "markdown",
   "metadata": {
    "slideshow": {
     "slide_type": "fragment"
    }
   },
   "source": [
    "- faremos durante a aula remota exemplos (professor) e exercícios (alunos & professor) que são parte das atividades (exercícios, trabalhos individuais e em grupo) a serem entregues;"
   ]
  },
  {
   "cell_type": "markdown",
   "metadata": {
    "slideshow": {
     "slide_type": "fragment"
    }
   },
   "source": [
    "- prazos de algumas semanas a mais de mês para entrega de trabahos individuais e em grupo;"
   ]
  },
  {
   "cell_type": "markdown",
   "metadata": {
    "slideshow": {
     "slide_type": "fragment"
    }
   },
   "source": [
    "- motivação (Física) sendo explicitada em exemplos, exercícios e trabalhos."
   ]
  },
  {
   "cell_type": "markdown",
   "metadata": {
    "slideshow": {
     "slide_type": "slide"
    }
   },
   "source": [
    "# Tirando dúvidas sobre resolução dos exercícios e trabalhos"
   ]
  },
  {
   "cell_type": "markdown",
   "metadata": {
    "slideshow": {
     "slide_type": "subslide"
    }
   },
   "source": [
    "## Trabalho Individual : Coordenadas Curvilíneas"
   ]
  },
  {
   "cell_type": "markdown",
   "metadata": {
    "slideshow": {
     "slide_type": "fragment"
    }
   },
   "source": [
    "Trabalho Individual sobre coordenadas curvilíneas.\n",
    "\n",
    "**Prazo de envio (prolongado, novamente) : 2a-feira, 12/07/2021, até 17h59.**"
   ]
  },
  {
   "cell_type": "markdown",
   "metadata": {
    "slideshow": {
     "slide_type": "fragment"
    }
   },
   "source": [
    "Dicas : "
   ]
  },
  {
   "cell_type": "markdown",
   "metadata": {
    "slideshow": {
     "slide_type": "fragment"
    }
   },
   "source": [
    "- nos itens (2), (3) e (4), fazer sim para coord. cartesianas 2D e 3D, embora alguns cálculos sejam triviais, é importante vocês fazerem ao menos 1 vez na vida, por exemplo, h_x, h_y e h_z (todos resultam em 1, mas é para verificar esse resultado fazendo as contas);"
   ]
  },
  {
   "cell_type": "markdown",
   "metadata": {
    "slideshow": {
     "slide_type": "fragment"
    }
   },
   "source": [
    "- no item (4), é para colocar corretamente nomes nos eixos, desenhar e descrever as curvas u_i (2 para cada), e em 2 pontos desenhar e nomear os vetores unitários \\hat{e}_i. Por exemplo, para coord. cartesianas 2D precisa mostrar curva x_1 (é uma reta horizontal), curva x_2 (idem), curva y_1 (reta vertical), curva y_2 (idem), escrevendo os nomes ao lado dessas curvas;"
   ]
  },
  {
   "cell_type": "markdown",
   "metadata": {
    "slideshow": {
     "slide_type": "subslide"
    }
   },
   "source": [
    "- no item (4), nos gráficos 3D, se necessário faça 2 gráficos, cada um contendo 1 ponto $P_i$, para evitar gráfico poluído demais; "
   ]
  },
  {
   "cell_type": "markdown",
   "metadata": {
    "slideshow": {
     "slide_type": "fragment"
    }
   },
   "source": [
    "- essa dificuldade de se fazer os gráficos será motivação nossa para aprendermos depois a fazê-los via ferramentas computacionais, o que vai ser mostrado aos poucas nessa disciplina. Começamos com gráficos de campos vetoriais na semana passada. Porém é intencional vê-los fazendo gráficos à mão (no papel ou via software de desenho) para só depois usarmos ferramentas computacionais (com gráficos gerados via programação)."
   ]
  },
  {
   "cell_type": "markdown",
   "metadata": {
    "slideshow": {
     "slide_type": "fragment"
    }
   },
   "source": [
    "Dúvidas dos alunos ?\n",
    "\n",
    "Uso de papel para desenhos, ou softwares de desenho, ou GeoGebra, etc.\n",
    "\n",
    "Dois alunos mostraram a resolução, principalmente a parte gráfica, sendo feita discussão entre alunos e sugestões de melhorias nos gráficos."
   ]
  },
  {
   "cell_type": "markdown",
   "metadata": {
    "slideshow": {
     "slide_type": "subslide"
    }
   },
   "source": [
    "## Exercício : Operadores diferenciais vetoriais de 2a ordem nulos"
   ]
  },
  {
   "cell_type": "markdown",
   "metadata": {
    "slideshow": {
     "slide_type": "fragment"
    }
   },
   "source": [
    "Exercício individual, sobre operadores diferenciais vetoriais de 2a ordem nulos.\n",
    "\n",
    "**Prazo de envio : sábado, 10/07/2021, até 23h59.**"
   ]
  },
  {
   "cell_type": "markdown",
   "metadata": {
    "slideshow": {
     "slide_type": "fragment"
    }
   },
   "source": [
    "Dicas : "
   ]
  },
  {
   "cell_type": "markdown",
   "metadata": {
    "slideshow": {
     "slide_type": "fragment"
    }
   },
   "source": [
    "- não precisa deduzir as expressões de gradiente, divergente e rotacional;"
   ]
  },
  {
   "cell_type": "markdown",
   "metadata": {
    "slideshow": {
     "slide_type": "fragment"
    }
   },
   "source": [
    "- checar sinal de vetor em todos os operadores e no nabla/del :\n",
    "\n",
    "$$ \\vec{F} $$\n",
    "\n",
    "$$ \\vec{0} $$\n",
    "\n",
    "$$ \\vec{\\nabla} \\,\\,\\,(\\text{exceto em laplaciano}) $$\n",
    "\n",
    "$$ \\hat{i}, \\hat{j}, \\hat{k} $$\n",
    "\n",
    "etc."
   ]
  }
 ],
 "metadata": {
  "celltoolbar": "Slideshow",
  "kernelspec": {
   "display_name": "Python 3",
   "language": "python",
   "name": "python3"
  },
  "language_info": {
   "codemirror_mode": {
    "name": "ipython",
    "version": 3
   },
   "file_extension": ".py",
   "mimetype": "text/x-python",
   "name": "python",
   "nbconvert_exporter": "python",
   "pygments_lexer": "ipython3",
   "version": "3.8.10"
  }
 },
 "nbformat": 4,
 "nbformat_minor": 2
}
