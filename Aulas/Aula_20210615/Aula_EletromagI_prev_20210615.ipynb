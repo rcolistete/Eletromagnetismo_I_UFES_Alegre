{
 "cells": [
  {
   "cell_type": "markdown",
   "metadata": {
    "slideshow": {
     "slide_type": "slide"
    }
   },
   "source": [
    "# Disciplina - DQF10648 Eletromagnetismo I\n",
    "## Aula em 15/06/2021 - Semestre 2021/1 EARTE\n",
    "### [DQF - CCENS](http://alegre.ufes.br/ccens/departamento-de-quimica-e-fisica) - [UFES/Alegre](http://alegre.ufes.br/)"
   ]
  },
  {
   "cell_type": "markdown",
   "metadata": {
    "slideshow": {
     "slide_type": "slide"
    }
   },
   "source": [
    "# Apresentação da disciplina \"Eletromagnetismo I\""
   ]
  },
  {
   "cell_type": "markdown",
   "metadata": {
    "slideshow": {
     "slide_type": "fragment"
    }
   },
   "source": [
    "- Google Classroom/Google Sala de Aula e Google Drive da disciplina"
   ]
  },
  {
   "cell_type": "markdown",
   "metadata": {
    "slideshow": {
     "slide_type": "fragment"
    }
   },
   "source": [
    "- [Repositório público no GitHub de \"Eletromagnetismo I\"](https://github.com/rcolistete/Eletromagnetismo_I_UFES_Alegre)"
   ]
  },
  {
   "cell_type": "markdown",
   "metadata": {
    "slideshow": {
     "slide_type": "fragment"
    }
   },
   "source": [
    "- [Bibliografia oficial e alternativa](https://github.com/rcolistete/Eletromagnetismo_I_UFES_Alegre/blob/master/Bibliografia.md)"
   ]
  },
  {
   "cell_type": "markdown",
   "metadata": {
    "slideshow": {
     "slide_type": "slide"
    }
   },
   "source": [
    "# Motivações e Objetivos"
   ]
  },
  {
   "cell_type": "markdown",
   "metadata": {
    "slideshow": {
     "slide_type": "fragment"
    }
   },
   "source": [
    "Equações de Maxwell na forma integral foram dadas em \"Física C\" e \"Física D\" :"
   ]
  },
  {
   "cell_type": "markdown",
   "metadata": {
    "slideshow": {
     "slide_type": "fragment"
    }
   },
   "source": [
    "Lei de Gauss para campo elétrico :\n",
    "\n",
    "$$ \\oint_S \\vec{E}\\cdot \\hat{n}\\,dA=\\frac{q}{\\epsilon _{0}}\\quad (1.i)$$"
   ]
  },
  {
   "cell_type": "markdown",
   "metadata": {
    "slideshow": {
     "slide_type": "fragment"
    }
   },
   "source": [
    "Lei de Gauss para campo magnético :\n",
    "\n",
    "$$\\oint_S \\vec{B}\\cdot \\hat{n}\\,dA=0 \\left(T \\cdot m^2\\right) \\quad (2.i)$$"
   ]
  },
  {
   "cell_type": "markdown",
   "metadata": {
    "slideshow": {
     "slide_type": "subslide"
    }
   },
   "source": [
    "Lei de Faraday :\n",
    "\n",
    "$$\\oint_C \\vec{E}\\cdot d\\vec{s}=-\\frac{\\partial \\phi _{B}}{\\partial t} \\quad (3.i)$$"
   ]
  },
  {
   "cell_type": "markdown",
   "metadata": {
    "slideshow": {
     "slide_type": "fragment"
    }
   },
   "source": [
    "Lei de Ampère-Maxwell :\n",
    "\n",
    "$$\\oint_C \\vec{B}\\cdot d\\vec{s}=\\mu _{0}\\,\\epsilon _{0}\\,\\frac{\\partial \\phi _{E}}{\\partial t}+\\mu _{0}\\,i \\quad (4.i)$$"
   ]
  },
  {
   "cell_type": "markdown",
   "metadata": {
    "slideshow": {
     "slide_type": "subslide"
    }
   },
   "source": [
    "Tal que desejamos comprender tais equações de Maxwell na forma diferencial e aplicá-las em problemas de Eletromagnetismo. Para tanto precisamos :"
   ]
  },
  {
   "cell_type": "markdown",
   "metadata": {
    "slideshow": {
     "slide_type": "fragment"
    }
   },
   "source": [
    "- saber passar da forma integral para forma diferencial e vice-versa;"
   ]
  },
  {
   "cell_type": "markdown",
   "metadata": {
    "slideshow": {
     "slide_type": "fragment"
    }
   },
   "source": [
    "- dominar coordenadas curvílineas em 2D (cartesianas, polares, etc) e 3D (cartesianas, cilíndrias, esféricas, etc);"
   ]
  },
  {
   "cell_type": "markdown",
   "metadata": {
    "slideshow": {
     "slide_type": "fragment"
    }
   },
   "source": [
    "- dominar os operadores diferenciais vetoriais (gradiente, divergente, rotacional e laplaciano) em qualquer sistema de coordenadas;"
   ]
  },
  {
   "cell_type": "markdown",
   "metadata": {
    "slideshow": {
     "slide_type": "fragment"
    }
   },
   "source": [
    "- praticar visualização gráfica computacional de campos escalares (potencial, módulo de vetor, etc) e vetoriais, em 2 e 3 dimensões;"
   ]
  },
  {
   "cell_type": "markdown",
   "metadata": {
    "slideshow": {
     "slide_type": "fragment"
    }
   },
   "source": [
    "- dominar novas técnicas de resolução de problemas de Eletromagnestimo, envolvendo novos conceitos de Matemática, Física e Computação."
   ]
  }
 ],
 "metadata": {
  "celltoolbar": "Slideshow",
  "kernelspec": {
   "display_name": "Python 3",
   "language": "python",
   "name": "python3"
  },
  "language_info": {
   "codemirror_mode": {
    "name": "ipython",
    "version": 3
   },
   "file_extension": ".py",
   "mimetype": "text/x-python",
   "name": "python",
   "nbconvert_exporter": "python",
   "pygments_lexer": "ipython3",
   "version": "3.8.6"
  }
 },
 "nbformat": 4,
 "nbformat_minor": 2
}
