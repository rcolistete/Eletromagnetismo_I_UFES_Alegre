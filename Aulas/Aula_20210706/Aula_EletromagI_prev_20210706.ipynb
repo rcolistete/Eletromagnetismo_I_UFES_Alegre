{
 "cells": [
  {
   "cell_type": "markdown",
   "metadata": {
    "slideshow": {
     "slide_type": "slide"
    }
   },
   "source": [
    "# Disciplina - DQF10648 Eletromagnetismo I\n",
    "## Aula em 06/07/2021 - Semestre 2021/1 EARTE\n",
    "### [DQF - CCENS](http://alegre.ufes.br/ccens/departamento-de-quimica-e-fisica) - [UFES/Alegre](http://alegre.ufes.br/)"
   ]
  },
  {
   "cell_type": "markdown",
   "metadata": {
    "slideshow": {
     "slide_type": "slide"
    }
   },
   "source": [
    "# Configurando Jupyter Notebook com [RISE](https://rise.readthedocs.io/en/stable/)"
   ]
  },
  {
   "cell_type": "markdown",
   "metadata": {
    "slideshow": {
     "slide_type": "fragment"
    }
   },
   "source": [
    "Para visualizar os documentos Jupyter Notebook no modo apresentação tal como são mostrados durante as aulas de \"Eletromagnetismo I\", instale a extensão [RISE (Reveal.js - Jupyter/IPython Slideshow Extension](https://rise.readthedocs.io/en/stable/), que é um software gratuito e de código-fonte aberto, disponível em [repositório público GitHub](https://github.com/damianavila/RISE)."
   ]
  },
  {
   "cell_type": "markdown",
   "metadata": {
    "slideshow": {
     "slide_type": "fragment"
    }
   },
   "source": [
    "Para instalar RISE, com [Anaconda (distribuição Python)](https://www.anaconda.com/products/individual) instalado, digite no terminal :\n",
    "```bash\n",
    "$ pip install RISE\n",
    "```"
   ]
  },
  {
   "cell_type": "markdown",
   "metadata": {
    "slideshow": {
     "slide_type": "slide"
    }
   },
   "source": [
    "# Tirando dúvidas sobre resolução dos exercícios e trabalhos"
   ]
  },
  {
   "cell_type": "markdown",
   "metadata": {
    "slideshow": {
     "slide_type": "fragment"
    }
   },
   "source": [
    "## Trabalho em Grupo : Operadores Diferenciais Vetoriais"
   ]
  },
  {
   "cell_type": "markdown",
   "metadata": {
    "slideshow": {
     "slide_type": "fragment"
    }
   },
   "source": [
    "Trabalho em grupo (até 3 alunos/as) sobre \"Operadores Diferenciais Vetoriais\".\n",
    "\n",
    "**Prazo de envio : 4a-feira, 07/07/2021, até 23h59.**"
   ]
  },
  {
   "cell_type": "markdown",
   "metadata": {
    "slideshow": {
     "slide_type": "subslide"
    }
   },
   "source": [
    "#### Aviso\n",
    "\n",
    "Aviso que grupos acima de 3 alunos serão penalizados, por exemplo de 4 alunos terá nota multiplicada por 3/4, então recomendo que quebrem o grupo de 4 alunos.\n",
    "\n",
    "No próximo trabalho em grupo não aceitarei grupo com número de alunos acima do especificado (nem corrigirei e a nota será 0)."
   ]
  },
  {
   "cell_type": "markdown",
   "metadata": {
    "slideshow": {
     "slide_type": "subslide"
    }
   },
   "source": [
    "Dicas : "
   ]
  },
  {
   "cell_type": "markdown",
   "metadata": {
    "slideshow": {
     "slide_type": "fragment"
    }
   },
   "source": [
    "- basear-se nas aulas das últimas 3 semanas e nas bibliografias oficial e alternativa para obter as expressões genéricas para coordenadas curvilíneas (que não precisam ser deduzidas) para gradiente, divergente, rotacional e laplaciano. Também não precisa deduzir os $h_i$ e $\\hat{e}_i$ respectivos;"
   ]
  },
  {
   "cell_type": "markdown",
   "metadata": {
    "slideshow": {
     "slide_type": "fragment"
    }
   },
   "source": [
    "- checar seta de vetor em todos os operadores e no nabla/del :\n",
    "\n",
    "$$ \\vec{F} $$\n",
    "\n",
    "$$ \\vec{\\nabla} \\,\\,\\,(\\text{exceto em laplaciano}) $$\n",
    "\n",
    "$$ \\hat{i}, \\hat{j}, \\hat{k} $$\n",
    "\n",
    "etc."
   ]
  },
  {
   "cell_type": "markdown",
   "metadata": {
    "slideshow": {
     "slide_type": "subslide"
    }
   },
   "source": [
    "- o \"operador\" $\\vec{\\nabla}$ só deve ser escrito em coordenadas curvilíneas para criar gradiente, sendo que para divergente e rotacional tem $h_i$ extras (vide fórmula, aparece $h_1 h_2 h_3$, etc). Então use as expressões genéricas para coordenadas curvilíneas para divergente, rotacional e laplaciano, ao invés de $\\vec{\\nabla}$ com produto escalar e vetorial aplicados em funções.  \n",
    "Essa dúvida é muito comum, vide :\n",
    "  * [Improper use of [nabla operator] in vector analysis - PhysicsForum](https://www.physicsforums.com/threads/improper-use-of-nabla-operator-in-vector-analysis.131416/);\n",
    "  * [Why is the del operator sometimes considered to be a vector?](https://www.quora.com/Why-is-the-del-operator-sometimes-considered-to-be-a-vector)"
   ]
  },
  {
   "cell_type": "markdown",
   "metadata": {
    "slideshow": {
     "slide_type": "subslide"
    }
   },
   "source": [
    "## Trabalho Individual : Coordenadas Curvilíneas"
   ]
  },
  {
   "cell_type": "markdown",
   "metadata": {
    "slideshow": {
     "slide_type": "fragment"
    }
   },
   "source": [
    "Trabalho Individual sobre coordenadas curvilíneas.\n",
    "\n",
    "**Prazo de envio : 5a-feira, 08/07/2021, até 23h59.**"
   ]
  },
  {
   "cell_type": "markdown",
   "metadata": {
    "slideshow": {
     "slide_type": "fragment"
    }
   },
   "source": [
    "Dicas : "
   ]
  },
  {
   "cell_type": "markdown",
   "metadata": {
    "slideshow": {
     "slide_type": "fragment"
    }
   },
   "source": [
    "- nos itens (2), (3) e (4), fazer sim para coord. cartesianas 2D e 3D, embora alguns cálculos sejam triviais, é importante vocês fazerem ao menos 1 vez na vida, por exemplo, h_x, h_y e h_z (todos resultam em 1, mas é para verificar esse resultado fazendo as contas);"
   ]
  },
  {
   "cell_type": "markdown",
   "metadata": {
    "slideshow": {
     "slide_type": "fragment"
    }
   },
   "source": [
    "- no item (4), é para colocar corretamente nomes nos eixos, desenhar e descrever as curvas u_i (2 para cada), e em 2 pontos desenhar e nomear os vetores unitários \\hat{e}_i. Por exemplo, para coord. cartesianas 2D precisa mostrar curva x_1 (é uma reta horizontal), curva x_2 (idem), curva y_1 (reta vertical), curva y_2 (idem), escrevendo os nomes ao lado dessas curvas;"
   ]
  },
  {
   "cell_type": "markdown",
   "metadata": {
    "slideshow": {
     "slide_type": "subslide"
    }
   },
   "source": [
    "- essa dificuldade de se fazer os gráficos será motivação nossa para aprendermos depois a fazê-los via ferramentas computacionais, o que vai ser mostrado aos poucas nessa disciplina. Começamos com gráficos de campos vetoriais na semana passada. Porém é intencional vê-los fazendo gráficos à mão (no papel ou via software de desenho) para só depois usarmos ferramentas computacionais (com gráficos gerados via programação)."
   ]
  },
  {
   "cell_type": "markdown",
   "metadata": {
    "slideshow": {
     "slide_type": "fragment"
    }
   },
   "source": [
    "Dúvidas dos alunos ? Mostrem suas resoluções...\n",
    "\n",
    "Uso de papel para desenhos, ou softwares de desenho, ou GeoGebra, etc."
   ]
  },
  {
   "cell_type": "markdown",
   "metadata": {
    "slideshow": {
     "slide_type": "subslide"
    }
   },
   "source": [
    "## (Previsto mas não apresentado por falta de tempo) Exercício : Operadores diferenciais vetoriais de 2a ordem nulos"
   ]
  },
  {
   "cell_type": "markdown",
   "metadata": {
    "slideshow": {
     "slide_type": "fragment"
    }
   },
   "source": [
    "Exercício individual, sobre operadores diferenciais vetoriais de 2a ordem nulos.\n",
    "\n",
    "**Prazo de envio : sábado, 10/07/2021, até 23h59.**"
   ]
  },
  {
   "cell_type": "markdown",
   "metadata": {
    "slideshow": {
     "slide_type": "fragment"
    }
   },
   "source": [
    "Dicas : "
   ]
  },
  {
   "cell_type": "markdown",
   "metadata": {
    "slideshow": {
     "slide_type": "fragment"
    }
   },
   "source": [
    "- não precisa deduzir as expressões de gradiente, divergente e rotacional;"
   ]
  },
  {
   "cell_type": "markdown",
   "metadata": {
    "slideshow": {
     "slide_type": "fragment"
    }
   },
   "source": [
    "- checar sinal de vetor em todos os operadores e no nabla/del :\n",
    "\n",
    "$$ \\vec{F} $$\n",
    "\n",
    "$$ \\vec{0} $$\n",
    "\n",
    "$$ \\vec{\\nabla} \\,\\,\\,(\\text{exceto em laplaciano}) $$\n",
    "\n",
    "$$ \\hat{i}, \\hat{j}, \\hat{k} $$\n",
    "\n",
    "etc."
   ]
  },
  {
   "cell_type": "markdown",
   "metadata": {
    "slideshow": {
     "slide_type": "slide"
    }
   },
   "source": [
    "# (Previsto mas não apresentado por falta de tempo) Cálculo integral e seus teoremas em análise vetorial"
   ]
  },
  {
   "cell_type": "markdown",
   "metadata": {
    "slideshow": {
     "slide_type": "slide"
    }
   },
   "source": [
    "# (Previsto mas não apresentado por falta de tempo) Início de Eletrostática com lei de Coulomb e campo elétrico E"
   ]
  }
 ],
 "metadata": {
  "celltoolbar": "Slideshow",
  "kernelspec": {
   "display_name": "Python 3",
   "language": "python",
   "name": "python3"
  },
  "language_info": {
   "codemirror_mode": {
    "name": "ipython",
    "version": 3
   },
   "file_extension": ".py",
   "mimetype": "text/x-python",
   "name": "python",
   "nbconvert_exporter": "python",
   "pygments_lexer": "ipython3",
   "version": "3.8.10"
  }
 },
 "nbformat": 4,
 "nbformat_minor": 2
}
