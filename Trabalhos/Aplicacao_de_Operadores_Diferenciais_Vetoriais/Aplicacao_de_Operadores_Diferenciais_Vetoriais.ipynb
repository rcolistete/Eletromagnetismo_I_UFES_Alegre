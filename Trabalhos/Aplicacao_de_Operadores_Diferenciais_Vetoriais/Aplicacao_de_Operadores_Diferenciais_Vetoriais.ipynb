{
 "cells": [
  {
   "cell_type": "markdown",
   "metadata": {
    "slideshow": {
     "slide_type": "slide"
    }
   },
   "source": [
    "# Trabalho em Grupo : Aplicação de Operadores Diferenciais Vetoriais\n",
    "\n",
    "## Semestre 2021-1 EARTE\n",
    "\n",
    "### DQF10648 Eletromagnetismo I - UFES/Alegre\n",
    "\n",
    "#### Professor : Roberto Colistete Jr."
   ]
  },
  {
   "cell_type": "markdown",
   "metadata": {
    "slideshow": {
     "slide_type": "slide"
    }
   },
   "source": [
    "Trabalho em grupo de até 2 alunas/os, sobre aplicação de operadores diferenciais vetoriais.\n",
    "\n",
    "**Prazo de envio : 2a-feira, 13/09/2021, até 23h59.**\n",
    "\n",
    "(Divulgado em 23/07/2021)"
   ]
  },
  {
   "cell_type": "markdown",
   "metadata": {
    "slideshow": {
     "slide_type": "fragment"
    }
   },
   "source": [
    "No topo da 1a página da resolução coloque o nome do exercício, nome da disciplina, semestre letivo (2021/1 EARTE), seu nome, data do dia em que for feita a entrega, etc, como título, subtítulo, etc."
   ]
  },
  {
   "cell_type": "markdown",
   "metadata": {
    "slideshow": {
     "slide_type": "fragment"
    }
   },
   "source": [
    "Até 50% dos ítens/subítens podem ser feitos usando cálculo computacional dos operadores diferenciais vetoriais, via Python + SymPy ou Wolfram Mathematica."
   ]
  },
  {
   "cell_type": "markdown",
   "metadata": {
    "slideshow": {
     "slide_type": "subslide"
    }
   },
   "source": [
    "Fazer em arquivo eletrônico, 3 formatos a escolher :\n",
    "1. .pdf a partir de digitalização (foto, scanner, etc) de resolução no papel, com qualidade suficiente para ser legível;\n",
    "2. LaTeX, enviando arquivos .tex e .pdf;\n",
    "3. Jupyter Notebook, enviando arquivos .ipynb e .html. Esse formato é recomendado pois pode-se aproveitar o enunciado desse exercício feito em formato Jupyter Notebook."
   ]
  },
  {
   "cell_type": "markdown",
   "metadata": {
    "slideshow": {
     "slide_type": "fragment"
    }
   },
   "source": [
    "Enviar resolução via essa atividade ao professor, com arquivo(s) (\"Trabalho_AplicOpDifVet_NOME1_NOME2_DATA.EXTENSAO\", onde 'EXTENSAO' é \".pdf\", \".tex\", etc), criando com extensão \".zip\" (ou equivalente) se tiver mais de um arquivo, caso das opções (2) e (3) acima. Onde 'NOME1' ou 'NOME2' é nome de aluna/o, sem espaços e sem acentuação, mas pode usar '_', e 'DATA' é data de envio, sem espaços, p. e., 2021-09-13.  \n",
    "Por exemplo, para alunos \"Fulano\" e \"Beltrano\" enviando um arquivo .ipynb no penúltimo dia, seria \"Trabalho_AplicOpDifVet_Fulano_Beltrano_2021-09-12.ipynb\"."
   ]
  },
  {
   "cell_type": "markdown",
   "metadata": {
    "slideshow": {
     "slide_type": "slide"
    }
   },
   "source": [
    "## Motivação\n",
    "\n",
    "Esse trabalho é sobre aplicação prática dos operadores diferenciais vetoriais (gradiente, divergente, rotacional e laplaciano), em funções escalares e vetoriais comuns em Eletromagnetismo, representando exemplos reais de potencial elétrico, campo elétrico e (um pouco de) campo magnético, tal que a/o aluna/o :"
   ]
  },
  {
   "cell_type": "markdown",
   "metadata": {
    "slideshow": {
     "slide_type": "fragment"
    }
   },
   "source": [
    "- pratique tais cálculos em diferentes sistemas de coordenadas 2D (cartesianas e polares) e 3D (cartesianas, cilíndricas e esféricas);"
   ]
  },
  {
   "cell_type": "markdown",
   "metadata": {
    "slideshow": {
     "slide_type": "fragment"
    }
   },
   "source": [
    "- entenda, via prática, como obter campo elétrico a partir de potencial elétrico;"
   ]
  },
  {
   "cell_type": "markdown",
   "metadata": {
    "slideshow": {
     "slide_type": "fragment"
    }
   },
   "source": [
    "- entenda, via prática, como obter a fonte de campo (densidade de cargas elétricas) a partir de divergente de campo elétrico;"
   ]
  },
  {
   "cell_type": "markdown",
   "metadata": {
    "slideshow": {
     "slide_type": "subslide"
    }
   },
   "source": [
    "- verifique que campos elétricos (gerados por cargas elétricas) são conservativos, via cálculo de rotacional de campo elétrico mostrando ser nulo (vetor zero) em todo o domínio;"
   ]
  },
  {
   "cell_type": "markdown",
   "metadata": {
    "slideshow": {
     "slide_type": "fragment"
    }
   },
   "source": [
    "- verifique que campo magnético gerado por corrente elétrica tem comportamento rotacional, via cálculo de rotacional de campo magnético mostrando ser não-nulo em ao menos parte do domínio;"
   ]
  },
  {
   "cell_type": "markdown",
   "metadata": {
    "slideshow": {
     "slide_type": "fragment"
    }
   },
   "source": [
    "- pratique laplaciano em alguns potenciais elétricos."
   ]
  },
  {
   "cell_type": "markdown",
   "metadata": {
    "slideshow": {
     "slide_type": "slide"
    }
   },
   "source": [
    "## Calcular"
   ]
  },
  {
   "cell_type": "markdown",
   "metadata": {
    "slideshow": {
     "slide_type": "fragment"
    }
   },
   "source": [
    "Obs.: comente sobre a validade do domínio (das coordenadas) após usar cada operador diferencial vetorial. "
   ]
  },
  {
   "cell_type": "markdown",
   "metadata": {
    "slideshow": {
     "slide_type": "fragment"
    }
   },
   "source": [
    "I) dadas todas as funções escalares $V$ a seguir, calcule :\n",
    "\n",
    "$$ \\vec{E} = -\\,\\vec{\\nabla}\\,V $$"
   ]
  },
  {
   "cell_type": "markdown",
   "metadata": {
    "slideshow": {
     "slide_type": "fragment"
    }
   },
   "source": [
    "II) dadas todas as funções vetoriais $\\vec{F}$ a seguir, calcule :\n",
    "\n",
    "$$ \\vec{\\nabla}\\cdot\\vec{F} $$\n",
    "\n",
    "Conforme a caso/necessidade, então use delta de Dirac.\n",
    "\n",
    "Considerando :\n",
    "- a 1a equação de Maxwell, lei de Gauss para campo elétrico, $ \\vec{\\nabla}\\cdot\\vec{E} = \\rho/\\epsilon_0 $, analise quando a densidade volumétrica de cargas elétricas $\\rho$ é não nula, nas funções vetoriais (5)-(7);\n",
    "- a 2a equação de Maxwell, lei de Gauss para campo magnético, $ \\vec{\\nabla}\\cdot\\vec{B} = 0\\,\\textrm{T/m} $, verifique se tal equação é satisfeita para a função vetorial (9)."
   ]
  },
  {
   "cell_type": "markdown",
   "metadata": {
    "slideshow": {
     "slide_type": "subslide"
    }
   },
   "source": [
    "III) dadas as funções vetoriais $\\vec{F}$ a seguir, de número (3), (5)-(9), calcule :\n",
    "\n",
    "$$ \\vec{\\nabla}\\times\\vec{F} $$\n",
    "\n",
    "verificando se tal rotacional é :\n",
    "- um vetor nulo ($= \\vec{0}$), o que prova que o campo vetorial é conservativo;\n",
    "- ou um vetor não-nulo, o que indica que o campo vetorial tem comportamento rotacional e não é conservativo.\n",
    "\n",
    "citando textualmente esses comportamentos para cada campo vetorial.\n",
    "\n",
    "E no caso da função vetorial (9), considere a 4a equação de Maxwell (sem variação de campos em relação ao tempo), lei de Ampère para campo magnético, $ \\vec{\\nabla}\\times\\vec{B} = \\mu_0\\,\\vec{J} $, analisando quando a densidade superficial de corrente elétrica $\\vec{J}$ é não nula."
   ]
  },
  {
   "cell_type": "markdown",
   "metadata": {
    "slideshow": {
     "slide_type": "fragment"
    }
   },
   "source": [
    "IV) para as funções escalares $V$ de número (2), (6)-(7), calcule o laplaciano :\n",
    "\n",
    "$$ \\Delta V = \\nabla^2 V = \\vec{\\nabla}\\cdot(\\vec{\\nabla}\\,V) $$\n",
    "\n",
    "comentando se e quando for não-nulo."
   ]
  },
  {
   "cell_type": "markdown",
   "metadata": {
    "slideshow": {
     "slide_type": "slide"
    }
   },
   "source": [
    "### Funções escalares"
   ]
  },
  {
   "cell_type": "markdown",
   "metadata": {
    "slideshow": {
     "slide_type": "fragment"
    }
   },
   "source": [
    "1) Módulo do vetor posição, $r = \\sqrt{\\vec{r} \\cdot \\vec{r}}$, em :\n",
    "\n",
    "1.a) coordenadas cartesianas $(x,y,z)$ :\n",
    "\n",
    "$$ V(x, y, z) = \\sqrt{x^2 + y^2 + z^2} $$\n",
    "\n",
    "1.b) em coordenadas cilíndricas $(\\rho, \\theta, z)$ :\n",
    "\n",
    "$$ V(\\rho, \\theta, z) = V(\\rho, z) = \\sqrt{\\rho^2 + z^2} $$\n",
    "\n",
    "1.c) em coordenadas esféricas $(r, \\theta, \\phi)$ :\n",
    "\n",
    "$$ V(r, \\theta, \\phi) = V(r) = r $$\n",
    "\n",
    "Cheque se os resultados finais são equivalentes.\n",
    "\n",
    "Em qual sistema de coordenadas os cálculos foram mais simples ?"
   ]
  },
  {
   "cell_type": "markdown",
   "metadata": {
    "slideshow": {
     "slide_type": "subslide"
    }
   },
   "source": [
    "2) Potencial elétrico em um capacitor infinito de placas planas (perpendiculares ao eixo $x$), em coordenadas cartesianas $(x, y, z)$ :\n",
    "\n",
    "$$ V(x, y, z) = V(x) = k \\,x $$"
   ]
  },
  {
   "cell_type": "markdown",
   "metadata": {
    "slideshow": {
     "slide_type": "fragment"
    }
   },
   "source": [
    "3) Potencial elétrico de anel de carga elétrica $Q$ uniforme ($\\lambda = \\lambda_0$ é constante), medido ao longo do eixo ($z$) do mesmo, com anel de raio $R$ no plano $xy$ e centrado na origem, representado em :\n",
    "\n",
    "3.a) coordenadas cartesianas $(x,y,z)$ :\n",
    "\n",
    "$$ V(x,y,z) = V(z) = \\frac{q}{4\\,\\pi \\,\\epsilon _{0}\\,\\sqrt{z^2 + R^2}} $$\n",
    "\n",
    "3.b)  coordenadas cilíndricas $(\\rho, \\theta, z)$ :\n",
    "\n",
    "$$ V(\\rho, \\theta, z) = V(z) = \\frac{q}{4\\,\\pi \\,\\epsilon _{0}\\,\\sqrt{z^2 + R^2}} $$\n",
    "\n",
    "Faça 2 cálculos, um para cada sistema de coordenadas, até a parte que se torna igual.\n",
    "\n",
    "Em qual sistema de coordenadas os cálculos foram mais simples ?"
   ]
  },
  {
   "cell_type": "markdown",
   "metadata": {
    "slideshow": {
     "slide_type": "subslide"
    }
   },
   "source": [
    "4) Potencial elétrico de um cilindro circular reto infinito, condutor carregado uniformemente com cargas elétricas na superfície ($\\lambda = \\lambda_0$ e $\\sigma = \\sigma_0$ são constantes), com eixo do cilindro ao longo do eixo ($z$), com raio $R$, representado em coordenadas cilíndricas $(\\rho, \\theta, z)$ :\n",
    "\n",
    "$$ V(\\rho, \\theta, z) = V(\\rho) = V_0 \\,,\\,\\,\\,\\,\\textrm{para}\\,\\,\\,\\rho \\le R $$\n",
    "\n",
    "$$ V(\\rho, \\theta, z) = V(\\rho) = V_0 + \\frac{\\lambda_0}{2\\,\\pi \\,\\epsilon _{0}}\\ln{\\left( \\frac{\\rho}{R}\\right)}  \\,,\\,\\,\\,\\,\\textrm{para}\\,\\,\\,\\rho \\ge R $$\n",
    "\n",
    "Faça 2 cálculos, um para cada domínio do potencial elétrico $V$."
   ]
  },
  {
   "cell_type": "markdown",
   "metadata": {
    "slideshow": {
     "slide_type": "subslide"
    }
   },
   "source": [
    "5) Potencial elétrico de uma carga elétrica pontual $q$ na origem :\n",
    "\n",
    "5.a) em coordenadas cartesianas $(x, y, z)$ :\n",
    "\n",
    "$$ V(x, y, z) = \\frac{q}{4\\,\\pi \\,\\epsilon _{0}\\,\\sqrt{x^2 + y^2 + z^2}} $$\n",
    "\n",
    "5.b) em coordenadas cilíndricas $(\\rho, \\theta, z)$ :\n",
    "\n",
    "$$ V(\\rho, \\theta, z) = V(\\rho, z) = \\frac{q}{4\\,\\pi \\,\\epsilon _{0}\\,\\sqrt{\\rho^2 + z^2}} $$\n",
    "\n",
    "5.c) em coordenadas esféricas $(r, \\theta, \\phi)$ :\n",
    "\n",
    "$$ V(r, \\theta, \\phi) = V(r) = \\frac{q}{4\\,\\pi \\,\\epsilon _{0}\\,r} $$\n",
    "\n",
    "Cheque se os resultados finais são equivalentes.\n",
    "\n",
    "Em qual sistema de coordenadas os cálculos foram mais simples ?"
   ]
  },
  {
   "cell_type": "markdown",
   "metadata": {
    "slideshow": {
     "slide_type": "subslide"
    }
   },
   "source": [
    "6) Potencial elétrico (expressão aproximada usada em pontos distantes) de um dipolo elétrico com ponto médio centrado na origem, com distância $d$ entre as cargas elétricas $+q$ e $-q$ no eixo $z$ (a carga positiva está em $z = d/2$ e a negativa em $z = -d/2$, usando coordenadas esféricas $(r, \\theta, \\phi)$ tal que $\\theta$ é a inclinação em relação ao eixo $z$ e o ângulo entre o eixo do dipolo e vetor posição do observador :\n",
    "\n",
    "$$ V(r, \\theta, \\phi) = V(r, \\theta) = \\frac{p\\,\\cos \\theta }{4\\,\\pi \\,\\epsilon _{0}\\,r^{2}} $$"
   ]
  },
  {
   "cell_type": "markdown",
   "metadata": {
    "slideshow": {
     "slide_type": "fragment"
    }
   },
   "source": [
    "7) Potencial elétrico do átomo de Rutherford, centrado na origem, em coordenadas esféricas $(r, \\theta, \\phi)$ :\n",
    "\n",
    "$$ V(r, \\theta, \\phi) = V(r) = \\frac{Z\\ e}{4\\,\\pi \\,\\epsilon _{0}\\,}\\left( \\frac{1}{r}-\\frac{3}{2R}+%\n",
    "\\frac{r^{2}}{2R^{3}}\\right) $$"
   ]
  },
  {
   "cell_type": "markdown",
   "metadata": {
    "slideshow": {
     "slide_type": "slide"
    }
   },
   "source": [
    "### Funções vetoriais"
   ]
  },
  {
   "cell_type": "markdown",
   "metadata": {
    "slideshow": {
     "slide_type": "fragment"
    }
   },
   "source": [
    "1) vetor posição em 1 dimensão, $ \\vec{F}(\\vec{r}) = \\vec{r} $, em coordenada cartesiana $(x)$ :\n",
    "\n",
    "$$ \\vec{F}(x) = x\\hat{i} $$"
   ]
  },
  {
   "cell_type": "markdown",
   "metadata": {
    "slideshow": {
     "slide_type": "fragment"
    }
   },
   "source": [
    "2) vetor posição em 2 dimensões, $ \\vec{F}(\\vec{r}) = \\vec{r} $, em :\n",
    "\n",
    "2.a) coordenadas cartesianas $(x, y)$ :\n",
    "\n",
    "$$ \\vec{F}(x, y) = x\\hat{i} + y\\hat{j} $$\n",
    "\n",
    "2.b) coordenadas polares $(\\rho, \\theta)$ :\n",
    "\n",
    "$$ \\vec{F}(\\rho, \\theta) = \\vec{F}(\\rho) = \\rho\\hat{\\rho} $$\n",
    "\n",
    "Cheque se os resultados finais são equivalentes.\n",
    "\n",
    "Em qual sistema de coordenadas os cálculos foram mais simples ?"
   ]
  },
  {
   "cell_type": "markdown",
   "metadata": {
    "slideshow": {
     "slide_type": "subslide"
    }
   },
   "source": [
    "3) vetor posição em 3 dimensões, $ \\vec{F}(\\vec{r}) = \\vec{r} $, em :\n",
    "\n",
    "3.a) coordenadas cartesianas $(x, y, z)$ :\n",
    "\n",
    "$$ \\vec{F}(x, y, z) = x\\hat{i} + y\\hat{j} + z\\hat{k} $$\n",
    "\n",
    "3.b) coordenadas cilíndricas $(\\rho, \\theta, z)$ :\n",
    "\n",
    "$$ \\vec{F}(\\rho, \\theta, z) = \\vec{F}(\\rho, z) = \\rho\\hat{\\rho} + z\\hat{k} $$\n",
    "\n",
    "3.c) coordenadas esféricas $(r, \\theta, \\phi)$ :\n",
    "\n",
    "$$ \\vec{F}(r, \\theta, \\phi) = \\vec{F}(r) = r\\hat{r} $$\n",
    "\n",
    "Cheque se os resultados finais são equivalentes.\n",
    "\n",
    "Compare o resultado com os dos ítens (1) e (2), anteriores.\n",
    "\n",
    "Dica : ou seja, tal resultado tem a ver com o número $N$ de dimensões do vetor posição.\n",
    "\n",
    "Em qual sistema de coordenadas os cálculos foram mais simples ?"
   ]
  },
  {
   "cell_type": "markdown",
   "metadata": {
    "slideshow": {
     "slide_type": "subslide"
    }
   },
   "source": [
    "4) vetor posição normalizado, em 3 dimensões, $ \\vec{F}(\\vec{r}) = \\hat{r} = \\vec{r}/r $, em :\n",
    "\n",
    "4.a) coordenadas cartesianas $(x, y, z)$ :\n",
    "\n",
    "$$ \\vec{F}(x, y, z) = \\frac{x\\,\\hat{i}}{\\sqrt{x^2 + y^2 + z^2}} + \\frac{y\\,\\hat{j}}{\\sqrt{x^2 + y^2 + z^2}} + \\frac{z\\,\\hat{k}}{\\sqrt{x^2 + y^2 + z^2}} $$\n",
    "\n",
    "4.b) coordenadas cilíndricas $(\\rho, \\theta, z)$ :\n",
    "\n",
    "$$ \\vec{F}(\\rho, \\theta, z) = \\vec{F}(\\rho, z) = \\frac{\\rho\\,\\hat{\\rho}}{\\sqrt{\\rho^2 + z^2}} + \\frac{z\\,\\hat{k}}{\\sqrt{\\rho^2 + z^2}} $$\n",
    "\n",
    "4.c) coordenadas esféricas $(r, \\theta, \\phi)$ :\n",
    "\n",
    "$$ \\vec{F}(r, \\theta, \\phi) = \\vec{F} = \\hat{r} $$\n",
    "\n",
    "Cheque se os resultados finais são equivalentes.\n",
    "\n",
    "Em qual sistema de coordenadas os cálculos foram mais simples ?"
   ]
  },
  {
   "cell_type": "markdown",
   "metadata": {
    "slideshow": {
     "slide_type": "subslide"
    }
   },
   "source": [
    "5) campo elétrico $\\vec{E} = \\vec{F}$ de uma carga elétrica pontual $q$ na origem, em :\n",
    "\n",
    "5.a) coordenadas cartesianas $(x, y, z)$ :\n",
    "\n",
    "$$ \\vec{F}(\\vec{r}) = \\vec{F}(x, y, z) = \\frac{q\\,x\\,\\hat{i}}{4\\,\\pi \\,\\epsilon_{0}(x^2 + y^2 + z^2)^{3/2}} + \\frac{q\\,y\\,\\hat{j}}{4\\,\\pi \\,\\epsilon_{0}(x^2 + y^2 + z^2)^{3/2}} + \\frac{q\\,z\\,\\hat{k}}{4\\,\\pi \\,\\epsilon_{0}(x^2 + y^2 + z^2)^{3/2}} $$\n",
    "\n",
    "5.b) coordenadas cilíndricas $(\\rho, \\theta, z)$ :\n",
    "\n",
    "$$ \\vec{F}(\\rho, \\theta, z) = \\vec{F}(\\rho, z) = \\frac{q\\,\\rho\\,\\hat{\\rho}}{4\\,\\pi \\,\\epsilon_{0}(\\rho^2 + z^2)^{3/2}} + \\frac{q\\,z\\,\\hat{k}}{4\\,\\pi \\,\\epsilon_{0}(\\rho^2 + z^2)^{3/2}} $$\n",
    "\n",
    "5.c) coordenadas esféricas $(r, \\theta, \\phi)$ :\n",
    "\n",
    "$$ \\vec{F}(\\vec{r}) = \\vec{F}(r, \\theta, \\phi) = \\vec{F}(r) = \\frac{q\\,\\vec{r}}{4\\,\\pi \\,\\epsilon _{0}\\,r^3}  = \\frac{q\\,\\hat{r}}{4\\,\\pi \\,\\epsilon_{0}\\,r^2} $$\n",
    "\n",
    "Cheque se os resultados finais são equivalentes.\n",
    "\n",
    "Em qual sistema de coordenadas os cálculos foram mais simples ?"
   ]
  },
  {
   "cell_type": "markdown",
   "metadata": {
    "slideshow": {
     "slide_type": "subslide"
    }
   },
   "source": [
    "6) campo elétrico $\\vec{E} = \\vec{F}$ de um cilindro circular reto infinito, não-condutor carregado uniformemente com cargas elétricas no volume (densidade volumétrica de cargas elétricas, $\\rho_0$, sendo constante), com eixo do cilindro ao longo do eixo ($z$), com raio $R$, representado em coordenadas cilíndricas $(\\rho, \\theta, z)$ :\n",
    "\n",
    "$$ \\vec{F}(\\vec{r}) = \\vec{F}(\\rho, \\theta, z) = \\vec{F}(\\rho) = \\frac{\\rho_0\\,\\rho\\,\\hat{\\rho}}{2\\,\\epsilon_{0}} \\,,\\,\\,\\,\\,\\textrm{para}\\,\\,\\,\\rho \\le R $$\n",
    "\n",
    "$$ \\vec{F}(\\vec{r}) = \\vec{F}(\\rho, \\theta, z) = \\vec{F}(\\rho) = \\frac{\\rho_0\\,R^2\\,\\hat{\\rho}}{2\\,\\epsilon_{0}\\,\\rho} \\,,\\,\\,\\,\\,\\textrm{para}\\,\\,\\,\\rho \\ge R $$\n",
    "\n",
    "Faça 2 cálculos, um para cada domínio do campo elétrico $\\vec{E}$."
   ]
  },
  {
   "cell_type": "markdown",
   "metadata": {
    "slideshow": {
     "slide_type": "fragment"
    }
   },
   "source": [
    "7) campo elétrico $\\vec{E} = \\vec{F}$ de uma esfera, não-condutora carregada uniformemente com cargas elétricas no volume (densidade volumétrica de cargas elétricas, $\\rho_0$, sendo constante), centrada na origem, com raio $R$, representada em coordenadas esféricas $(r, \\theta, \\phi)$ :\n",
    "\n",
    "$$ \\vec{F}(\\vec{r}) = \\vec{F}(r, \\theta, \\phi) = \\vec{F}(r) = \\frac{\\rho_0\\,r\\,\\hat{r}}{3\\,\\epsilon_{0}} \\,,\\,\\,\\,\\,\\textrm{para}\\,\\,\\,r \\le R $$\n",
    "\n",
    "$$ \\vec{F}(\\vec{r}) = \\vec{F}(r, \\theta, \\phi) = \\vec{F}(r) = \\frac{\\rho_0\\,R^3\\,\\hat{r}}{3\\,\\epsilon_{0}\\,r^2} \\,,\\,\\,\\,\\,\\textrm{para}\\,\\,\\,r \\ge R $$\n",
    "\n",
    "Faça 2 cálculos, um para cada domínio do campo elétrico $\\vec{E}$."
   ]
  },
  {
   "cell_type": "markdown",
   "metadata": {
    "slideshow": {
     "slide_type": "subslide"
    }
   },
   "source": [
    "8) campo vetorial rotacional em relação ao eixo $z$, em coordenadas cilíndricas $(\\rho, \\theta, z)$ :\n",
    "\n",
    "$$\\vec{F}(\\rho, \\theta, z) = \\vec{F} = k\\,\\hat{\\theta} $$"
   ]
  },
  {
   "cell_type": "markdown",
   "metadata": {
    "slideshow": {
     "slide_type": "fragment"
    }
   },
   "source": [
    "9) campo magnético $\\vec{B} = \\vec{F}$ gerado por um fio condutor cilíndrico circular reto infinito, com eixo do fio ao longo do eixo $z$, com raio $R$, com densidade superficial de corrente elétrica uniforme ($\\vec{J} = J_0 \\hat{k}$, pois a corrente elétrica flui ao longo do eixo do fio e sentido positivo), representado em coordenadas cilíndricas $(\\rho, \\theta, z)$ :\n",
    "\n",
    "$$ \\vec{F}(\\vec{r}) = \\vec{F}(\\rho, \\theta, z) = \\vec{F}(\\rho) = \\frac{\\mu_0\\,J_0\\,\\rho\\,\\hat{\\theta}}{2} \\,,\\,\\,\\,\\,\\textrm{para}\\,\\,\\,\\rho \\le R $$\n",
    "\n",
    "$$ \\vec{F}(\\vec{r}) = \\vec{F}(\\rho, \\theta, z) = \\vec{F}(\\rho) = \\frac{\\mu_0\\,J_0\\,R^2\\,\\hat{\\theta}}{2\\,\\rho} \\,,\\,\\,\\,\\,\\textrm{para}\\,\\,\\,\\rho \\ge R $$\n",
    "\n",
    "Faça 2 cálculos, um para cada domínio do campo magnético $\\vec{B}$."
   ]
  }
 ],
 "metadata": {
  "celltoolbar": "Slideshow",
  "kernelspec": {
   "display_name": "Python 3",
   "language": "python",
   "name": "python3"
  },
  "language_info": {
   "codemirror_mode": {
    "name": "ipython",
    "version": 3
   },
   "file_extension": ".py",
   "mimetype": "text/x-python",
   "name": "python",
   "nbconvert_exporter": "python",
   "pygments_lexer": "ipython3",
   "version": "3.8.10"
  }
 },
 "nbformat": 4,
 "nbformat_minor": 2
}
