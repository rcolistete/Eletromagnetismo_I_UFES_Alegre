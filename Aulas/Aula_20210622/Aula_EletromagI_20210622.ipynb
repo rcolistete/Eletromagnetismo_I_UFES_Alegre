{
 "cells": [
  {
   "cell_type": "markdown",
   "metadata": {
    "slideshow": {
     "slide_type": "slide"
    }
   },
   "source": [
    "# Disciplina - DQF10648 Eletromagnetismo I\n",
    "## Aula em 22/06/2021 - Semestre 2021/1 EARTE\n",
    "### [DQF - CCENS](http://alegre.ufes.br/ccens/departamento-de-quimica-e-fisica) - [UFES/Alegre](http://alegre.ufes.br/)"
   ]
  },
  {
   "cell_type": "markdown",
   "metadata": {
    "slideshow": {
     "slide_type": "slide"
    }
   },
   "source": [
    "# Tirando Dúvidas sobre Exercícios/Trabalhos"
   ]
  },
  {
   "cell_type": "markdown",
   "metadata": {
    "slideshow": {
     "slide_type": "subslide"
    }
   },
   "source": [
    "## Exercício \"Equações de Maxwell na Forma Integral\""
   ]
  },
  {
   "cell_type": "markdown",
   "metadata": {
    "slideshow": {
     "slide_type": "fragment"
    }
   },
   "source": [
    "Parte da turma queria saber como deduzir as equações de Maxwell, usando os teoremos de Cálculo, etc."
   ]
  },
  {
   "cell_type": "markdown",
   "metadata": {
    "slideshow": {
     "slide_type": "fragment"
    }
   },
   "source": [
    "Foi explicado que :"
   ]
  },
  {
   "cell_type": "markdown",
   "metadata": {
    "slideshow": {
     "slide_type": "fragment"
    }
   },
   "source": [
    "- dedução das equações de Maxwell é em parte vista na disciplina \"Física C\", talvez também no início de \"Física D\";"
   ]
  },
  {
   "cell_type": "markdown",
   "metadata": {
    "slideshow": {
     "slide_type": "fragment"
    }
   },
   "source": [
    "- para aqueles com deficiência desse conhecimento, fiquem tranquilos que tal assunto será visto detalhadamente nessa disciplina \"Eletromagnetismo I\";"
   ]
  },
  {
   "cell_type": "markdown",
   "metadata": {
    "slideshow": {
     "slide_type": "fragment"
    }
   },
   "source": [
    "- em termos do livro principal da disciplina, [Griffiths], será vista a dedução das equações de Maxwell, inclusive passando da forma integral para diferencial e vice-versa, ao longo dos capítulos 2, 5 e 7;"
   ]
  },
  {
   "cell_type": "markdown",
   "metadata": {
    "slideshow": {
     "slide_type": "subslide"
    }
   },
   "source": [
    "- será passsado em Julho um trabalho individual \"Equações de Maxwell na Forma Integral e Diferencial\", com prazo de entrega para final do semestre letivo, para, além do que foi feito no \"Exercício \"Equações de Maxwell na Forma Integral\", também :\n",
    "    * escrever 4 equações de Maxwell na forma diferencial;\n",
    "    * a partir da forma integral escrever na forma diferencial, e vice-versa;\n",
    "    * fazer gráfico mostrando o comportamento do campo vetorial para cada equação de Maxwell."
   ]
  },
  {
   "cell_type": "markdown",
   "metadata": {
    "slideshow": {
     "slide_type": "subslide"
    }
   },
   "source": [
    "## Trabalho Individual : Coordenadas Curvilíneas"
   ]
  },
  {
   "cell_type": "markdown",
   "metadata": {
    "slideshow": {
     "slide_type": "fragment"
    }
   },
   "source": [
    "Parte da turma questionou como fazer ítens desse trabalho."
   ]
  },
  {
   "cell_type": "markdown",
   "metadata": {
    "slideshow": {
     "slide_type": "fragment"
    }
   },
   "source": [
    "Foi informado que as as aulas de 17/06, 22/06 e 24/06, junto com partes das referências bibliográficas citadas, tem a matéria suficiente para a resolução desse trabalho."
   ]
  },
  {
   "cell_type": "markdown",
   "metadata": {
    "slideshow": {
     "slide_type": "fragment"
    }
   },
   "source": [
    "A data de entrega também foi adiada de 28/06 para 30/06/2021."
   ]
  },
  {
   "cell_type": "markdown",
   "metadata": {
    "slideshow": {
     "slide_type": "slide"
    }
   },
   "source": [
    "# Coordenadas Curvilíneas"
   ]
  },
  {
   "cell_type": "markdown",
   "metadata": {
    "slideshow": {
     "slide_type": "fragment"
    }
   },
   "source": [
    "Sobre coordenadas cartesianas, polares, cilíndricas e esféricas, vide :"
   ]
  },
  {
   "cell_type": "markdown",
   "metadata": {
    "slideshow": {
     "slide_type": "fragment"
    }
   },
   "source": [
    "- [referências](https://github.com/rcolistete/Eletromagnetismo_I_UFES_Alegre/blob/master/Bibliografia.md) [Griffiths], [Barcarena3] e [Marques];"
   ]
  },
  {
   "cell_type": "markdown",
   "metadata": {
    "slideshow": {
     "slide_type": "fragment"
    }
   },
   "source": [
    "- demonstrações gráficas gratuitas no site [Wolfram Demonstrations](https://demonstrations.wolfram.com/);"
   ]
  },
  {
   "cell_type": "markdown",
   "metadata": {
    "slideshow": {
     "slide_type": "fragment"
    }
   },
   "source": [
    "Note que a [referência](https://github.com/rcolistete/Eletromagnetismo_I_UFES_Alegre/blob/master/Bibliografia.md) :\n",
    "- [Barcarena3] usa coordenadas generalizadas (como sinônimo de curvilíneas) $q_i$."
   ]
  },
  {
   "cell_type": "markdown",
   "metadata": {
    "slideshow": {
     "slide_type": "slide"
    }
   },
   "source": [
    "## Fatores de escala $h_i$ e vetores base unitários $\\hat{e}_i$"
   ]
  },
  {
   "cell_type": "markdown",
   "metadata": {
    "slideshow": {
     "slide_type": "fragment"
    }
   },
   "source": [
    "Para se calcular os fatores de escala (ou escalares) $h_i$ e vetores base unitários $\\hat{e}_i$ respectivos a um sistema de coordenadas curvilíneas $u_i$, deve-se :"
   ]
  },
  {
   "cell_type": "markdown",
   "metadata": {
    "slideshow": {
     "slide_type": "fragment"
    }
   },
   "source": [
    "- inicialmente saber transformar das coordenadas curvilíneas $u_i$ para o sistema de coordenadas cartesianas; "
   ]
  },
  {
   "cell_type": "markdown",
   "metadata": {
    "slideshow": {
     "slide_type": "fragment"
    }
   },
   "source": [
    "- depois calcular derivadas parciais em relação às coordenadas curvilíneas $u_i$. "
   ]
  },
  {
   "cell_type": "markdown",
   "metadata": {
    "slideshow": {
     "slide_type": "fragment"
    }
   },
   "source": [
    "Considerando espaço de 3 dimensões, $i$ tem valores inteiros $1$, $2$ e $3$."
   ]
  },
  {
   "cell_type": "markdown",
   "metadata": {
    "slideshow": {
     "slide_type": "fragment"
    }
   },
   "source": [
    "Em 5 passos, bem detalhadamente, considerando espaço de 3 dimensões :"
   ]
  },
  {
   "cell_type": "markdown",
   "metadata": {
    "slideshow": {
     "slide_type": "subslide"
    }
   },
   "source": [
    "1) liste as equações de transformação de coordenadas curvilíneas $u_i$ para coordenadas cartesianas :"
   ]
  },
  {
   "cell_type": "markdown",
   "metadata": {
    "slideshow": {
     "slide_type": "fragment"
    }
   },
   "source": [
    "$$ x = m(u_1, u_2, u_3)$$"
   ]
  },
  {
   "cell_type": "markdown",
   "metadata": {
    "slideshow": {
     "slide_type": "fragment"
    }
   },
   "source": [
    "$$ y = n(u_1, u_2, u_3)$$"
   ]
  },
  {
   "cell_type": "markdown",
   "metadata": {
    "slideshow": {
     "slide_type": "fragment"
    }
   },
   "source": [
    "$$ z = p(u_1, u_2, u_3)$$"
   ]
  },
  {
   "cell_type": "markdown",
   "metadata": {
    "slideshow": {
     "slide_type": "subslide"
    }
   },
   "source": [
    "2) escreva o vetor posição $\\vec{r}$ em termos de coordenadas cartesianas e depois substitua as componentes por expressões em coordenadas curvilíneas $u_i$ :"
   ]
  },
  {
   "cell_type": "markdown",
   "metadata": {
    "slideshow": {
     "slide_type": "fragment"
    }
   },
   "source": [
    "$$ \\vec{r} = \\vec{r}(x, y, z) = x\\,\\hat{i} + y\\,\\hat{j} + z\\,\\hat{k} \\,\\,\\,\\rightarrow$$"
   ]
  },
  {
   "cell_type": "markdown",
   "metadata": {
    "slideshow": {
     "slide_type": "fragment"
    }
   },
   "source": [
    "$$ \\rightarrow \\,\\,\\,\\vec{r} = m(u_1, u_2, u_3)\\,\\hat{i} + n(u_1, u_2, u_3)\\,\\hat{j} + p(u_1, u_2, u_3)\\,\\hat{k}$$"
   ]
  },
  {
   "cell_type": "markdown",
   "metadata": {
    "slideshow": {
     "slide_type": "subslide"
    }
   },
   "source": [
    "3) calcule a derivada parcial (primeira) de $\\vec{r}$ em relação a cada coordenada curvilínea $u_i$ :"
   ]
  },
  {
   "cell_type": "markdown",
   "metadata": {
    "slideshow": {
     "slide_type": "fragment"
    }
   },
   "source": [
    "$$ \\frac{\\partial\\,\\vec{r}}{\\partial u_i} \\,\\,\\,\\rightarrow$$"
   ]
  },
  {
   "cell_type": "markdown",
   "metadata": {
    "slideshow": {
     "slide_type": "fragment"
    }
   },
   "source": [
    "$$ \\rightarrow \\,\\,\\, \\frac{\\partial \\vec{r}}{\\partial u_i} = \\frac{\\partial m(u_1, u_2, u_3)}{\\partial u_i}\\,\\hat{i} + \\frac{\\partial n(u_1, u_2, u_3)}{\\partial u_i}\\,\\hat{j} + \\frac{\\partial p(u_1, u_2, u_3)}{\\partial u_i}\\,\\hat{k} $$"
   ]
  },
  {
   "cell_type": "markdown",
   "metadata": {
    "slideshow": {
     "slide_type": "fragment"
    }
   },
   "source": [
    "ou seja, são $3$ derivadas parciais de $\\vec{r}$ em espaço $3$-dimensional, pois são $N$ derivadas parciais de $\\vec{r}$ em espaço $N$-dimensional."
   ]
  },
  {
   "cell_type": "markdown",
   "metadata": {
    "slideshow": {
     "slide_type": "subslide"
    }
   },
   "source": [
    "4) o fator de escala $h_i$ respectivo à coordenada curvilínea $u_i$ é o módulo da derivada parcial (primeira) de $\\vec{r}$ em relação à coordenada curvilínea $u_i$ :"
   ]
  },
  {
   "cell_type": "markdown",
   "metadata": {
    "slideshow": {
     "slide_type": "fragment"
    }
   },
   "source": [
    "$$ h_i = \\left| \\frac{\\partial \\vec{r}}{\\partial u_i}\\right| \\,\\,\\,\\rightarrow $$"
   ]
  },
  {
   "cell_type": "markdown",
   "metadata": {
    "slideshow": {
     "slide_type": "fragment"
    }
   },
   "source": [
    "$$ \\rightarrow \\,\\,\\, h_i = \n",
    "\\left|\\, \\frac{\\partial x}{\\partial u_i}\\,\\hat{i} + \\frac{\\partial y}{\\partial u_i}\\,\\hat{j} + \\frac{\\partial z}{\\partial u_i}\\,\\hat{k}\\, \\right| = \n",
    "\\sqrt{ \\left[\\frac{\\partial x}{\\partial u_i}\\right]^2 + \\left[\\frac{\\partial y}{\\partial u_i}\\right]^2  + \\left[\\frac{\\partial z}{\\partial u_i}\\right]^2 } $$"
   ]
  },
  {
   "cell_type": "markdown",
   "metadata": {
    "slideshow": {
     "slide_type": "fragment"
    }
   },
   "source": [
    "$$ \\rightarrow \\,\\,\\, h_i = \\sqrt{ \\left[ \\frac{\\partial m(u_1, u_2, u_3)}{\\partial u_i} \\right]^2 + \\left[ \\frac{\\partial n(u_1, u_2, u_3)}{\\partial u_i}\\right]^2 + \\left[\\frac{\\partial p(u_1, u_2, u_3)}{\\partial u_i}\\right]^2 } $$"
   ]
  },
  {
   "cell_type": "markdown",
   "metadata": {
    "slideshow": {
     "slide_type": "subslide"
    }
   },
   "source": [
    "Vide [referência](https://github.com/rcolistete/Eletromagnetismo_I_UFES_Alegre/blob/master/Bibliografia.md) [Barcarena3], seção \"5.1.3 Coordenadas Ortogonais\" e anteriores, para obter a origem da expressão de $h_i$."
   ]
  },
  {
   "cell_type": "markdown",
   "metadata": {
    "slideshow": {
     "slide_type": "fragment"
    }
   },
   "source": [
    "O fator de escala $h_i$ é utilizado para calcular, em coordenadas curvilíneas :"
   ]
  },
  {
   "cell_type": "markdown",
   "metadata": {
    "slideshow": {
     "slide_type": "fragment"
    }
   },
   "source": [
    "- elemento diferencial de linha $dl$ (em integrais de linha, etc);\n",
    "- elemento diferencial de área $dA$ (em integrais de superfície, etc);\n",
    "- elemento diferencial de volume $dV$ (em integrais de volume, etc);\n",
    "- jacobiano;\n",
    "- gradiente;\n",
    "- divergente;\n",
    "- rotacional;\n",
    "- laplaciano;\n",
    "- etc. "
   ]
  },
  {
   "cell_type": "markdown",
   "metadata": {
    "slideshow": {
     "slide_type": "subslide"
    }
   },
   "source": [
    "5) o vetor base unitário $\\hat{e}_i$ é a derivada parcial (primeira) de $\\vec{r}$ em relação à coordenada curvilínea $u_i$, normalizada, ou seja, dividida pelo módulo (= fator de escala $h_i$) :"
   ]
  },
  {
   "cell_type": "markdown",
   "metadata": {
    "slideshow": {
     "slide_type": "fragment"
    }
   },
   "source": [
    "$$ \\frac{\\partial \\vec{r}}{\\partial u_i} = h_i\\,\\hat{e}_i $$"
   ]
  },
  {
   "cell_type": "markdown",
   "metadata": {
    "slideshow": {
     "slide_type": "fragment"
    }
   },
   "source": [
    "que é um vetor tangente à curva $u_i$. Depois veremos gráficos das curvas $u_i$ para certos sistemas de coordenadas curvilíneas, por enquanto vide [referência](https://github.com/rcolistete/Eletromagnetismo_I_UFES_Alegre/blob/master/Bibliografia.md) [Silveira]), página 19 sobre coordenadas cilíndricas e página 26 sobre coordenadas esféricas. "
   ]
  },
  {
   "cell_type": "markdown",
   "metadata": {
    "slideshow": {
     "slide_type": "fragment"
    }
   },
   "source": [
    "Evidenciando vetor base unitário $\\hat{e}_i$, temos então :"
   ]
  },
  {
   "cell_type": "markdown",
   "metadata": {
    "slideshow": {
     "slide_type": "fragment"
    }
   },
   "source": [
    "$$ \\hat{e}_i = \\frac{1}{h_i} \\frac{\\partial \\vec{r}}{\\partial u_i} $$"
   ]
  },
  {
   "cell_type": "markdown",
   "metadata": {
    "slideshow": {
     "slide_type": "fragment"
    }
   },
   "source": [
    "Vide [referência](https://github.com/rcolistete/Eletromagnetismo_I_UFES_Alegre/blob/master/Bibliografia.md) [Barcarena3], seção \"5.1.3 Coordenadas Ortogonais\" e anteriores, para obter a origem da expressão de $h_i$."
   ]
  },
  {
   "cell_type": "markdown",
   "metadata": {
    "slideshow": {
     "slide_type": "slide"
    }
   },
   "source": [
    "## Exemplo : calculando $h_i$ e  $\\hat{e}_i$ para coordenadas polares $(\\rho, \\theta)$"
   ]
  },
  {
   "cell_type": "markdown",
   "metadata": {
    "slideshow": {
     "slide_type": "fragment"
    }
   },
   "source": [
    "1) liste as equações de transformação de coordenadas curvilíneas polares $u_i$, ou seja, $(\\rho, \\theta)$ para coordenadas cartesianas $(x, y)$ :"
   ]
  },
  {
   "cell_type": "markdown",
   "metadata": {
    "slideshow": {
     "slide_type": "fragment"
    }
   },
   "source": [
    "$$ x = m(u_1, u_2) = m(\\rho, \\theta) = \\rho \\cos \\theta $$"
   ]
  },
  {
   "cell_type": "markdown",
   "metadata": {
    "slideshow": {
     "slide_type": "fragment"
    }
   },
   "source": [
    "$$ y = n(u_1, u_2) = n(\\rho, \\theta) = \\rho \\sin \\theta $$"
   ]
  },
  {
   "cell_type": "markdown",
   "metadata": {
    "slideshow": {
     "slide_type": "subslide"
    }
   },
   "source": [
    "2) escreva o vetor posição $\\vec{r}$ em termos de coordenadas cartesianas $(x, y)$ e depois substitua as componentes por expressões em coordenadas curvilíneas polares $u_i$, ou seja, $(\\rho, \\theta)$ :"
   ]
  },
  {
   "cell_type": "markdown",
   "metadata": {
    "slideshow": {
     "slide_type": "fragment"
    }
   },
   "source": [
    "$$ \\vec{r} = \\vec{r}(x, y) = x\\,\\hat{i} + y\\,\\hat{j}$$"
   ]
  },
  {
   "cell_type": "markdown",
   "metadata": {
    "slideshow": {
     "slide_type": "fragment"
    }
   },
   "source": [
    "$$ \\vec{r} = m(u_1, u_2)\\,\\hat{i} + n(u_1, u_2)\\,\\hat{j} = m(\\rho, \\theta)\\,\\hat{i} + n(\\rho, \\theta)\\,\\hat{j} $$"
   ]
  },
  {
   "cell_type": "markdown",
   "metadata": {
    "slideshow": {
     "slide_type": "fragment"
    }
   },
   "source": [
    "$$ \\vec{r} = \\rho \\cos \\theta\\,\\hat{i} + \\rho \\sin \\theta\\,\\hat{j} $$"
   ]
  },
  {
   "cell_type": "markdown",
   "metadata": {
    "slideshow": {
     "slide_type": "subslide"
    }
   },
   "source": [
    "3) calcule a derivada parcial (primeira) de $\\vec{r}$ em relação a cada coordenada curvilínea polar $u_i$, ou seja, $(\\rho, \\theta)$ :"
   ]
  },
  {
   "cell_type": "markdown",
   "metadata": {
    "slideshow": {
     "slide_type": "fragment"
    }
   },
   "source": [
    "$$ \\frac{\\partial \\vec{r}}{\\partial u_i} = \\frac{\\partial m(u_1, u_2)}{\\partial u_i}\\,\\hat{i} + \\frac{\\partial n(u_1, u_2)}{\\partial u_i}\\,\\hat{j} = \\frac{\\partial m(\\rho, \\theta)}{\\partial u_i}\\,\\hat{i} + \\frac{\\partial n(\\rho, \\theta)}{\\partial u_i}\\,\\hat{j} $$"
   ]
  },
  {
   "cell_type": "markdown",
   "metadata": {
    "slideshow": {
     "slide_type": "fragment"
    }
   },
   "source": [
    "$$ \\frac{\\partial \\vec{r}}{\\partial u_i} = \\frac{\\partial \\left(\\rho \\cos \\theta\\right)}{\\partial u_i}\\,\\hat{i} + \\frac{\\partial \\left(\\rho \\sin \\theta\\right)}{\\partial u_i}\\,\\hat{j} $$"
   ]
  },
  {
   "cell_type": "markdown",
   "metadata": {
    "slideshow": {
     "slide_type": "subslide"
    }
   },
   "source": [
    "aplicando a derivada parcial para cada coordenada curvilínea polar $(\\rho, \\theta)$ :"
   ]
  },
  {
   "cell_type": "markdown",
   "metadata": {
    "slideshow": {
     "slide_type": "fragment"
    }
   },
   "source": [
    "$$ \\frac{\\partial \\vec{r}}{\\partial \\rho} = \\frac{\\partial \\left(\\rho \\cos \\theta\\right)}{\\partial \\rho}\\,\\hat{i} + \\frac{\\partial \\left(\\rho \\sin \\theta\\right)}{\\partial \\rho}\\,\\hat{j} = \\cos \\theta\\,\\hat{i} + \\sin \\theta\\,\\hat{j} $$"
   ]
  },
  {
   "cell_type": "markdown",
   "metadata": {
    "slideshow": {
     "slide_type": "fragment"
    }
   },
   "source": [
    "$$ \\frac{\\partial \\vec{r}}{\\partial \\theta} = \\frac{\\partial \\left(\\rho \\cos \\theta\\right)}{\\partial \\theta}\\,\\hat{i} + \\frac{\\partial \\left(\\rho \\sin \\theta\\right)}{\\partial \\theta}\\,\\hat{j} = - \\rho \\sin \\theta\\,\\hat{i} + \\rho \\cos \\theta\\,\\hat{j} $$"
   ]
  },
  {
   "cell_type": "markdown",
   "metadata": {
    "slideshow": {
     "slide_type": "subslide"
    }
   },
   "source": [
    "4) o fator de escala $h_i$ é o módulo da derivada parcial (primeira) de $\\vec{r}$ em relação à coordenada curvilínea polar $(\\rho, \\theta)$ :"
   ]
  },
  {
   "cell_type": "markdown",
   "metadata": {
    "slideshow": {
     "slide_type": "fragment"
    }
   },
   "source": [
    "$$ h_i = \\left| \\frac{\\partial \\vec{r}}{\\partial u_i} \\right| = \\left|\\, \\frac{\\partial \\left(\\rho \\cos \\theta\\right)}{\\partial u_i}\\,\\hat{i} + \\frac{\\partial \\left(\\rho \\sin \\theta\\right)}{\\partial u_i}\\,\\hat{j}\\, \\right| $$"
   ]
  },
  {
   "cell_type": "markdown",
   "metadata": {
    "slideshow": {
     "slide_type": "subslide"
    }
   },
   "source": [
    "$h_i$ cada coordenada curvilínea polar $(\\rho, \\theta)$ :"
   ]
  },
  {
   "cell_type": "markdown",
   "metadata": {
    "slideshow": {
     "slide_type": "fragment"
    }
   },
   "source": [
    "$$ h_\\rho = \\left| \\frac{\\partial \\vec{r}}{\\partial \\rho} \\right| = \\left|\\, \\frac{\\partial \\left(\\rho \\cos \\theta\\right)}{\\partial \\rho}\\,\\hat{i} + \\frac{\\partial \\left(\\rho \\sin \\theta\\right)}{\\partial \\rho}\\,\\hat{j}\\, \\right| $$"
   ]
  },
  {
   "cell_type": "markdown",
   "metadata": {
    "slideshow": {
     "slide_type": "fragment"
    }
   },
   "source": [
    "$$ h_\\rho = \\left|\\, \\cos \\theta\\,\\hat{i} + \\sin \\theta\\,\\hat{j}\\, \\right| = \\sqrt{(\\cos \\theta)^2 + (\\sin \\theta)^2} $$"
   ]
  },
  {
   "cell_type": "markdown",
   "metadata": {
    "slideshow": {
     "slide_type": "fragment"
    }
   },
   "source": [
    "$$ h_\\rho = 1 $$"
   ]
  },
  {
   "cell_type": "markdown",
   "metadata": {
    "slideshow": {
     "slide_type": "subslide"
    }
   },
   "source": [
    "$$ h_\\theta = \\left| \\frac{\\partial \\vec{r}}{\\partial \\theta} \\right| = \\left|\\, \\frac{\\partial \\left(\\rho \\cos \\theta\\right)}{\\partial \\theta}\\,\\hat{i} + \\frac{\\partial \\left(\\rho \\sin \\theta\\right)}{\\partial \\theta}\\,\\hat{j}\\, \\right| $$"
   ]
  },
  {
   "cell_type": "markdown",
   "metadata": {
    "slideshow": {
     "slide_type": "fragment"
    }
   },
   "source": [
    "$$ h_\\theta = \\left|\\, - \\rho \\sin \\theta\\,\\hat{i} + \\rho \\cos \\theta\\,\\hat{j}\\, \\right| = \\sqrt{(- \\rho \\sin \\theta)^2 + (\\rho \\cos \\theta)^2} $$"
   ]
  },
  {
   "cell_type": "markdown",
   "metadata": {
    "slideshow": {
     "slide_type": "fragment"
    }
   },
   "source": [
    "$$ h_\\theta = \\sqrt{\\rho^2 (\\sin \\theta)^2 + \\rho^2 (\\cos \\theta)^2} = \\sqrt{\\rho^2} = \\left|\\,  \\rho\\, \\right| $$"
   ]
  },
  {
   "cell_type": "markdown",
   "metadata": {
    "slideshow": {
     "slide_type": "fragment"
    }
   },
   "source": [
    "Considerando $\\rho \\geq 0\\,m$, então :"
   ]
  },
  {
   "cell_type": "markdown",
   "metadata": {
    "slideshow": {
     "slide_type": "fragment"
    }
   },
   "source": [
    "$$ h_\\theta = \\rho $$"
   ]
  },
  {
   "cell_type": "markdown",
   "metadata": {
    "slideshow": {
     "slide_type": "subslide"
    }
   },
   "source": [
    "5) o vetor base unitário $\\hat{e}_i$ é a derivada parcial (primeira) de $\\vec{r}$ em relação à coordenada curvilínea $u_i$, normalizada, i. e., dividida pelo módulo, ou seja, pelo fator de escala $h_i$ :"
   ]
  },
  {
   "cell_type": "markdown",
   "metadata": {
    "slideshow": {
     "slide_type": "fragment"
    }
   },
   "source": [
    "$$ \\hat{e}_\\rho = \\frac{1}{h_\\rho} \\frac{\\partial\\vec{r}}{\\partial \\rho} = \\frac{1}{1} \\left[\\cos \\theta\\,\\hat{i} + \\sin \\theta\\,\\hat{j} \\right] $$"
   ]
  },
  {
   "cell_type": "markdown",
   "metadata": {
    "slideshow": {
     "slide_type": "fragment"
    }
   },
   "source": [
    "$$ \\hat{e}_\\rho = \\hat{\\rho} = \\cos \\theta\\,\\hat{i} + \\sin \\theta\\,\\hat{j} $$"
   ]
  },
  {
   "cell_type": "markdown",
   "metadata": {
    "slideshow": {
     "slide_type": "fragment"
    }
   },
   "source": [
    "$$ \\hat{e}_\\theta = \\frac{1}{h_\\theta} \\frac{\\partial \\vec{r}}{\\partial \\theta} = \\frac{1}{\\rho} \\left[- \\rho \\sin \\theta\\,\\hat{i} + \\rho \\cos \\theta\\,\\hat{j} \\right] $$"
   ]
  },
  {
   "cell_type": "markdown",
   "metadata": {
    "slideshow": {
     "slide_type": "fragment"
    }
   },
   "source": [
    "$$ \\hat{e}_\\theta = \\hat{\\theta} = - \\sin \\theta\\,\\hat{i} + \\cos \\theta\\,\\hat{j} $$"
   ]
  },
  {
   "cell_type": "markdown",
   "metadata": {
    "slideshow": {
     "slide_type": "slide"
    }
   },
   "source": [
    "## (A FAZER) Exercício :  calcule $h_i$ e  $\\hat{e}_i$ para coordenadas esféricas $(r, \\theta, \\phi)$"
   ]
  },
  {
   "cell_type": "markdown",
   "metadata": {
    "slideshow": {
     "slide_type": "fragment"
    }
   },
   "source": [
    "Exercício para os alunos, não deu tempo de concluir, com 2 alunos apresentando parte inicial dos cálculos.\n",
    "\n",
    "A continuar na próxima aula, tirando dúvidas de todos os alunos."
   ]
  }
 ],
 "metadata": {
  "celltoolbar": "Slideshow",
  "kernelspec": {
   "display_name": "Python 3",
   "language": "python",
   "name": "python3"
  },
  "language_info": {
   "codemirror_mode": {
    "name": "ipython",
    "version": 3
   },
   "file_extension": ".py",
   "mimetype": "text/x-python",
   "name": "python",
   "nbconvert_exporter": "python",
   "pygments_lexer": "ipython3",
   "version": "3.8.6"
  }
 },
 "nbformat": 4,
 "nbformat_minor": 2
}
