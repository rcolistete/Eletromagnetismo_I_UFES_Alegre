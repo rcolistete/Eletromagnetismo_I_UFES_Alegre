{
 "cells": [
  {
   "cell_type": "markdown",
   "metadata": {
    "slideshow": {
     "slide_type": "slide"
    }
   },
   "source": [
    "# Disciplina - DQF10648 Eletromagnetismo I\n",
    "## Aula em 15/07/2021 - Semestre 2021/1 EARTE\n",
    "### [DQF - CCENS](http://alegre.ufes.br/ccens/departamento-de-quimica-e-fisica) - [UFES/Alegre](http://alegre.ufes.br/)"
   ]
  },
  {
   "cell_type": "markdown",
   "metadata": {
    "slideshow": {
     "slide_type": "slide"
    }
   },
   "source": [
    "# (TAREFA PASSADA) Cálculo integral e seus teoremas em análise vetorial"
   ]
  },
  {
   "cell_type": "markdown",
   "metadata": {
    "slideshow": {
     "slide_type": "fragment"
    }
   },
   "source": [
    "## Exercícios"
   ]
  },
  {
   "cell_type": "markdown",
   "metadata": {
    "slideshow": {
     "slide_type": "fragment"
    }
   },
   "source": [
    "### Tarefa passada na aula anterior\n",
    "\n",
    "Procurar demonstrações no [\"Wolfram Demonstrations Project\"](https://demonstrations.wolfram.com/) sobre os teoremas e/ou integrais da aula anterior sobre \"Cálculo integral e seus teoremas em análise vetorial\", para mostrar na aula.\n",
    "\n",
    "Alguém ?"
   ]
  },
  {
   "cell_type": "markdown",
   "metadata": {
    "slideshow": {
     "slide_type": "slide"
    }
   },
   "source": [
    "# Eletrostática"
   ]
  },
  {
   "cell_type": "markdown",
   "metadata": {
    "slideshow": {
     "slide_type": "fragment"
    }
   },
   "source": [
    "## Campo Elétrico $\\vec{E}$ gerado por distribuição contínua de cargas elétricas"
   ]
  },
  {
   "cell_type": "markdown",
   "metadata": {
    "slideshow": {
     "slide_type": "fragment"
    }
   },
   "source": [
    "Se a densidade volumétrica de carga elétrica $\\rho$ $(\\propto C/m^3)$ for dada em uma região, então sempre é possível calcular o campo elétrico $\\vec{E}(\\vec{r}_0)$ na posição $\\vec{r}_0$ da carga-teste $q_0$ : "
   ]
  },
  {
   "cell_type": "markdown",
   "metadata": {
    "slideshow": {
     "slide_type": "fragment"
    }
   },
   "source": [
    "$$ \\vec{E} = \\int\\int\\int_R d\\vec{E}\\,dV' \\,\\,\\, \\rightarrow \\,\\,\\, \\vec{E}(\\vec{r}_0) = \\int\\int\\int_R d\\vec{E}(\\vec{r}_0, \\vec{r}')\\,dV'$$"
   ]
  },
  {
   "cell_type": "markdown",
   "metadata": {
    "slideshow": {
     "slide_type": "fragment"
    }
   },
   "source": [
    "onde o diferencial de campo elétrico $d\\vec{E}$ produzido por um diferencial de carga elétrica $dq'$ é dado genericamente como : "
   ]
  },
  {
   "cell_type": "markdown",
   "metadata": {
    "slideshow": {
     "slide_type": "fragment"
    }
   },
   "source": [
    "$$ d\\vec{E} = \\frac{dq'\\,\\hat{r}}{4\\pi\\epsilon_0\\,|\\vec{r}|^2} = \\frac{dq'\\,\\hat{r}}{4\\pi\\epsilon_0\\,r^2} = \\frac{dq'\\,\\vec{r}}{4\\pi\\epsilon_0\\,|\\vec{r}|^3} = \\frac{dq'\\,\\vec{r}}{4\\pi\\epsilon_0\\,r^3} \\,\\,\\,,   \\,\\,\\, \\textrm{pois} \\,\\,\\, \\hat{r} = \\frac{\\vec{r}}{|\\vec{r}|} e  \\,\\,\\, r = |\\vec{r}| $$"
   ]
  },
  {
   "cell_type": "markdown",
   "metadata": {
    "slideshow": {
     "slide_type": "subslide"
    }
   },
   "source": [
    "Em um volume espacial, $dq' = \\rho(\\vec{r}')\\,dV'$, logo : "
   ]
  },
  {
   "cell_type": "markdown",
   "metadata": {
    "slideshow": {
     "slide_type": "fragment"
    }
   },
   "source": [
    "$$ \\vec{E}(\\vec{r}_0) = \\frac{1}{4\\pi\\epsilon_0}\\int\\int\\int_R \\frac{\\rho(\\vec{r}')\\,\\vec{r}\\,dV'}{|\\vec{r}|^3} = \\frac{1}{4\\pi\\epsilon_0}\\int\\int\\int_R \\frac{\\rho(\\vec{r}')(\\vec{r}_0-\\vec{r}')\\,dV'}{|\\vec{r}_0-\\vec{r}'|^3} $$"
   ]
  },
  {
   "cell_type": "markdown",
   "metadata": {
    "slideshow": {
     "slide_type": "fragment"
    }
   },
   "source": [
    "onde :"
   ]
  },
  {
   "cell_type": "markdown",
   "metadata": {
    "slideshow": {
     "slide_type": "fragment"
    }
   },
   "source": [
    "- $R$ é uma região tridimensional que contém a distribuição contínua de cargas elétricas;"
   ]
  },
  {
   "cell_type": "markdown",
   "metadata": {
    "slideshow": {
     "slide_type": "fragment"
    }
   },
   "source": [
    "- $dV'$ é o diferencial de volume da região $R$;"
   ]
  },
  {
   "cell_type": "markdown",
   "metadata": {
    "slideshow": {
     "slide_type": "fragment"
    }
   },
   "source": [
    "- $\\rho(\\vec{r}')$ é a densidade volumétrica de carga elétrica, $(\\propto C/m^3)$, na região $R$;"
   ]
  },
  {
   "cell_type": "markdown",
   "metadata": {
    "slideshow": {
     "slide_type": "fragment"
    }
   },
   "source": [
    "- $\\vec{r}$ é o vetor que sai da posição de $dq'$ até a posição da carga-teste $q_0$, i.e., $\\vec{r} = \\vec{r}_0-\\vec{r}'$;"
   ]
  },
  {
   "cell_type": "markdown",
   "metadata": {
    "slideshow": {
     "slide_type": "fragment"
    }
   },
   "source": [
    "- $\\vec{r}_0$ é o vetor-posição da carga-teste $q_0$ e do observador da medida;"
   ]
  },
  {
   "cell_type": "markdown",
   "metadata": {
    "slideshow": {
     "slide_type": "fragment"
    }
   },
   "source": [
    "- $\\vec{r}'$ é o vetor-posição que varre todas as cargas na região $R$."
   ]
  },
  {
   "cell_type": "markdown",
   "metadata": {
    "slideshow": {
     "slide_type": "subslide"
    }
   },
   "source": [
    "Se a densidade superficial de carga elétrica $\\sigma$ $(\\propto C/m^2)$ for dada em uma superfície, então sempre é possível calcular o campo elétrico produzido via :"
   ]
  },
  {
   "cell_type": "markdown",
   "metadata": {
    "slideshow": {
     "slide_type": "fragment"
    }
   },
   "source": [
    "$$ \\vec{E}(\\vec{r}_0) = \\frac{1}{4\\pi\\epsilon_0}\\int\\int_S \\frac{\\sigma(\\vec{r}')\\,\\vec{r}\\,dA'}{|\\vec{r}|^3} = \\frac{1}{4\\pi\\epsilon_0}\\int\\int_S \\frac{\\sigma(\\vec{r}')(\\vec{r}_0-\\vec{r}')\\,dA'}{|\\vec{r}_0-\\vec{r}'|^3} $$"
   ]
  },
  {
   "cell_type": "markdown",
   "metadata": {
    "slideshow": {
     "slide_type": "fragment"
    }
   },
   "source": [
    "onde :"
   ]
  },
  {
   "cell_type": "markdown",
   "metadata": {
    "slideshow": {
     "slide_type": "fragment"
    }
   },
   "source": [
    "- $S$ é uma superfície que contém a distribuição contínua de cargas elétricas;"
   ]
  },
  {
   "cell_type": "markdown",
   "metadata": {
    "slideshow": {
     "slide_type": "fragment"
    }
   },
   "source": [
    "- $dA'$ é o diferencial de área da superfície $S$;"
   ]
  },
  {
   "cell_type": "markdown",
   "metadata": {
    "slideshow": {
     "slide_type": "fragment"
    }
   },
   "source": [
    "- $\\sigma(\\vec{r}')$ é a densidade superficial de carga elétrica, $(\\propto C/m^2)$, na superfície $S$."
   ]
  },
  {
   "cell_type": "markdown",
   "metadata": {
    "slideshow": {
     "slide_type": "subslide"
    }
   },
   "source": [
    "Se a densidade linear de carga elétrica $\\lambda$ $(\\propto C/m)$ for dada em uma curva, então sempre é possível calcular o campo elétrico produzido via :"
   ]
  },
  {
   "cell_type": "markdown",
   "metadata": {
    "slideshow": {
     "slide_type": "fragment"
    }
   },
   "source": [
    "$$ \\vec{E}(\\vec{r}_0) = \\frac{1}{4\\pi\\epsilon_0}\\int_C \\frac{\\lambda(\\vec{r}')\\,\\vec{r}\\,ds'}{|\\vec{r}|^3} = \\frac{1}{4\\pi\\epsilon_0}\\int_C \\frac{\\lambda(\\vec{r}')(\\vec{r}_0-\\vec{r}')\\,ds'}{|\\vec{r}_0-\\vec{r}'|^3} $$"
   ]
  },
  {
   "cell_type": "markdown",
   "metadata": {
    "slideshow": {
     "slide_type": "fragment"
    }
   },
   "source": [
    "onde :"
   ]
  },
  {
   "cell_type": "markdown",
   "metadata": {
    "slideshow": {
     "slide_type": "fragment"
    }
   },
   "source": [
    "- $C$ é uma curva que contém a distribuição contínua de cargas elétricas;"
   ]
  },
  {
   "cell_type": "markdown",
   "metadata": {
    "slideshow": {
     "slide_type": "fragment"
    }
   },
   "source": [
    "- $ds'$ é o diferencial de comprimento da curva $C$;"
   ]
  },
  {
   "cell_type": "markdown",
   "metadata": {
    "slideshow": {
     "slide_type": "fragment"
    }
   },
   "source": [
    "- $\\lambda(\\vec{r}')$ é a densidade linear de carga elétrica, $(\\propto C/m)$, na curva $C$."
   ]
  },
  {
   "cell_type": "markdown",
   "metadata": {
    "slideshow": {
     "slide_type": "slide"
    }
   },
   "source": [
    "## Exemplo 1 : Anel circular carregado eletricamente"
   ]
  },
  {
   "cell_type": "markdown",
   "metadata": {
    "slideshow": {
     "slide_type": "fragment"
    }
   },
   "source": [
    "a) Calcule o campo elétrico $\\vec{E}$ criado por um anel circular carregado eletricamente;"
   ]
  },
  {
   "cell_type": "markdown",
   "metadata": {
    "slideshow": {
     "slide_type": "fragment"
    }
   },
   "source": [
    "b) idem (a), porém restringindo o observador ao longo do eixo do anel (eixo ortogonal ao plano do anel circular);"
   ]
  },
  {
   "cell_type": "markdown",
   "metadata": {
    "slideshow": {
     "slide_type": "fragment"
    }
   },
   "source": [
    "c) idem (a), porém restringindo para distribuição homogênea de carga elétrica no anel;"
   ]
  },
  {
   "cell_type": "markdown",
   "metadata": {
    "slideshow": {
     "slide_type": "fragment"
    }
   },
   "source": [
    "d) idem (b), porém restringindo para distribuição homogênea de carga elétrica no anel. Exemplo mais usado por ser mais simples."
   ]
  },
  {
   "cell_type": "markdown",
   "metadata": {
    "slideshow": {
     "slide_type": "subslide"
    }
   },
   "source": [
    "### Solução de (1.a)"
   ]
  },
  {
   "cell_type": "markdown",
   "metadata": {
    "slideshow": {
     "slide_type": "fragment"
    }
   },
   "source": [
    "Passo-a-passo genérico para cálculo de $\\vec{E}$ produzido por distribuição contínua de cargas elétricas :"
   ]
  },
  {
   "cell_type": "markdown",
   "metadata": {
    "slideshow": {
     "slide_type": "fragment"
    }
   },
   "source": [
    "1. **faça um diagrama gráfico** com a origem do sistema de coordenadas, a carga-teste $q_0$ (observador da medida) e o vetor-posição $\\vec{r}_0$, a região com distribuição contínua de cargas elétricas com ao menos um ponto tendo um $dq'$ e vetor-posição $\\vec{r}'$, e o vetor-posiçao $\\vec{r} = \\vec{r}_0 - \\vec{r}'$ que sai de $dq'$ em direção a  $q_0$;"
   ]
  },
  {
   "cell_type": "markdown",
   "metadata": {
    "slideshow": {
     "slide_type": "fragment"
    }
   },
   "source": [
    "2. como a região com distribuição contínua de cargas elétricas será varrida via integral, então tente posicionar no sistema de coordenadas tal região com distribuição contínua de cargas elétricas tal que a modelagem/representação da região seja simplificada;"
   ]
  },
  {
   "cell_type": "markdown",
   "metadata": {
    "slideshow": {
     "slide_type": "fragment"
    }
   },
   "source": [
    "3. dado o tipo da região que contém a distribuição contínua de cargas elétricas, **escolha a expressão de $\\vec{E}$ adequada**;"
   ]
  },
  {
   "cell_type": "markdown",
   "metadata": {
    "slideshow": {
     "slide_type": "fragment"
    }
   },
   "source": [
    "4. **escolha o sistema de coordenadas curvilíneas mais adequado** à distribuição contínua de cargas elétricas, em termos de simetria da região e como varia a densidade de cargas elétricas na mesma."
   ]
  },
  {
   "cell_type": "markdown",
   "metadata": {
    "slideshow": {
     "slide_type": "subslide"
    }
   },
   "source": [
    "Passo (1)-(2) $-$ Vamos aproveitar a simetria do anel circular e colocá-lo no plano $xy$, centrado na origem $O$ :"
   ]
  },
  {
   "cell_type": "markdown",
   "metadata": {
    "slideshow": {
     "slide_type": "fragment"
    }
   },
   "source": [
    "FIGURA"
   ]
  },
  {
   "cell_type": "markdown",
   "metadata": {
    "slideshow": {
     "slide_type": "subslide"
    }
   },
   "source": [
    "Passo (3) $-$ Para calcular o campo elétrico $\\vec{E}$ criado por um anel circular de raio $R$ carregado eletricamente, usaremos a expressão com densidade linear de carga elétrica $\\lambda$ $(\\propto C/m)$ dada em uma curva $C$ :"
   ]
  },
  {
   "cell_type": "markdown",
   "metadata": {
    "slideshow": {
     "slide_type": "fragment"
    }
   },
   "source": [
    "$$ \\vec{E}(\\vec{r}_0) = \\frac{1}{4\\pi\\epsilon_0}\\int_C \\frac{\\lambda(\\vec{r}')(\\vec{r}_0-\\vec{r}')\\,ds'}{|\\vec{r}_0-\\vec{r}'|^3} $$"
   ]
  },
  {
   "cell_type": "markdown",
   "metadata": {
    "slideshow": {
     "slide_type": "fragment"
    }
   },
   "source": [
    "sendo que $\\lambda(\\vec{r}')$ é a densidade linear de carga elétrica, $(\\propto C/m)$, na curva $C$, sendo uma função genérica de $\\vec{r}'$."
   ]
  },
  {
   "cell_type": "markdown",
   "metadata": {
    "slideshow": {
     "slide_type": "subslide"
    }
   },
   "source": [
    "Passo (4) $-$ Dado que :"
   ]
  },
  {
   "cell_type": "markdown",
   "metadata": {
    "slideshow": {
     "slide_type": "fragment"
    }
   },
   "source": [
    "- a curva $C$ é uma circunferência de raio $R$, e escolhemos como centrada na origem do plano $xy$;"
   ]
  },
  {
   "cell_type": "markdown",
   "metadata": {
    "slideshow": {
     "slide_type": "fragment"
    }
   },
   "source": [
    "- $ds'$ é o diferencial de comprimento (de arco) de uma circunferência de raio $R$, i.e., $ds' = R\\,d\\theta'$;"
   ]
  },
  {
   "cell_type": "markdown",
   "metadata": {
    "slideshow": {
     "slide_type": "fragment"
    }
   },
   "source": [
    "- $\\lambda(\\vec{r}')$ só depende de $\\theta'$ ao longo da circunferência, i. e.,  $\\lambda(\\vec{r}') = \\lambda(\\theta')$."
   ]
  },
  {
   "cell_type": "markdown",
   "metadata": {
    "slideshow": {
     "slide_type": "fragment"
    }
   },
   "source": [
    "- $\\vec{r}'$ é o vetor-posição que sai da origem $O$ até cada ponto da circunferência (com diferencial de carga elétrica $dq'$);"
   ]
  },
  {
   "cell_type": "markdown",
   "metadata": {
    "slideshow": {
     "slide_type": "fragment"
    }
   },
   "source": [
    "então o mais adequado é adotar coordenadas curvilíneas que se comportem no plano $xy$ como coordenadas polares $(\\rho, \\theta)$, por exemplo, coordenadas cilíndricas $(\\rho, \\theta, z)$ ou coordenadas esféricas $(r, \\theta, \\phi)$."
   ]
  },
  {
   "cell_type": "markdown",
   "metadata": {
    "slideshow": {
     "slide_type": "fragment"
    }
   },
   "source": [
    "Vamos adotar coordenadas cilíndricas por serem mais simples."
   ]
  },
  {
   "cell_type": "markdown",
   "metadata": {
    "slideshow": {
     "slide_type": "subslide"
    }
   },
   "source": [
    "Então, em coordenadas cilíndricas, ao longo da circunferência de raio $R$ centrada na origem :"
   ]
  },
  {
   "cell_type": "markdown",
   "metadata": {
    "slideshow": {
     "slide_type": "fragment"
    }
   },
   "source": [
    " \n",
    "\n",
    "$$\\textrm{curva}\\,C : \\begin{cases}\n",
    "\\rho' = R \\\\\\\\\n",
    "\\theta' \\in [0, 2\\,\\pi]\\,\\textrm{rad} \\\\\\\\\n",
    "z' = 0\\,\\textrm{m}\n",
    "\\end{cases}$$"
   ]
  },
  {
   "cell_type": "markdown",
   "metadata": {
    "slideshow": {
     "slide_type": "fragment"
    }
   },
   "source": [
    "$$ds' = R\\,d\\theta'$$"
   ]
  },
  {
   "cell_type": "markdown",
   "metadata": {
    "slideshow": {
     "slide_type": "fragment"
    }
   },
   "source": [
    "$$\\lambda(\\vec{r}') = \\lambda(\\theta')$$"
   ]
  },
  {
   "cell_type": "markdown",
   "metadata": {
    "slideshow": {
     "slide_type": "fragment"
    }
   },
   "source": [
    "$$\\vec{r}' = \\rho'\\,\\hat{\\rho} = R\\,\\hat{\\rho} = R\\cos\\theta'\\,\\hat{i} + R\\sin\\theta'\\,\\hat{j} \\,\\,\\, \\rightarrow \\,\\,\\, |\\vec{r}'| = r' = R $$"
   ]
  },
  {
   "cell_type": "markdown",
   "metadata": {
    "slideshow": {
     "slide_type": "fragment"
    }
   },
   "source": [
    "$$\\vec{r}_0 = \\rho_0\\,\\hat{\\rho} + z_0\\,\\hat{k} = \\rho_0\\cos\\theta_0\\,\\hat{i} + \\rho_0\\sin\\theta_0\\,\\hat{j} + z_0\\,\\hat{k} = x_0\\,\\hat{i} + y_0\\,\\hat{j} + z_0\\,\\hat{k} \\,\\,\\, , \\textrm{onde} \\,\\,\\, |\\vec{r}_0| = r_0 $$"
   ]
  },
  {
   "cell_type": "markdown",
   "metadata": {
    "slideshow": {
     "slide_type": "subslide"
    }
   },
   "source": [
    "Logo temos que $\\vec{E}$ é uma integral em relação a $\\theta'$ :"
   ]
  },
  {
   "cell_type": "markdown",
   "metadata": {
    "slideshow": {
     "slide_type": "fragment"
    }
   },
   "source": [
    "$$ \\vec{E}(\\vec{r}_0) = \\frac{1}{4\\pi\\epsilon_0}\\int_0^{2\\,\\pi} \\frac{\\lambda(\\theta')(\\vec{r}_0-\\vec{r}')\\,R\\,d\\theta'}{|\\vec{r}_0-\\vec{r}'|^3} $$"
   ]
  },
  {
   "cell_type": "markdown",
   "metadata": {
    "slideshow": {
     "slide_type": "fragment"
    }
   },
   "source": [
    "Se tentarmos substituir $\\vec{r}_0$ e $\\vec{r}'$ pelas expressões em coordenadas cilíndricas, notar que $\\hat{\\rho}$ de cada um é diferente pois tal vetor unitário não é constante por depender do ponto em que é calculado, logo não é possível somar/subtrair vetores e fatorar as componentes sob mesmo $\\hat{\\rho}$."
   ]
  },
  {
   "cell_type": "markdown",
   "metadata": {
    "slideshow": {
     "slide_type": "fragment"
    }
   },
   "source": [
    "Por isso vamos converter $\\vec{r}_0$ e $\\vec{r}'$ para coordenadas cilíndricas e em seguida para coordenadas cartesianas (vide página anterior), substituindo :"
   ]
  },
  {
   "cell_type": "markdown",
   "metadata": {
    "slideshow": {
     "slide_type": "fragment"
    }
   },
   "source": [
    "$$ \\vec{E}(\\vec{r}_0) = \\frac{R}{4\\pi\\epsilon_0}\\int_0^{2\\,\\pi} \\frac{\\lambda(\\theta')[(x_0 - R\\cos\\theta')\\hat{i}\n",
    "+ (y_0 - R\\sin\\theta')\\,\\hat{j} + z_0\\,\\hat{k}]\\,d\\theta'}{|(x_0 - R\\cos\\theta')\\hat{i}\n",
    "+ (y_0 - R\\sin\\theta')\\,\\hat{j} + z_0\\,\\hat{k}|^3} $$"
   ]
  },
  {
   "cell_type": "markdown",
   "metadata": {
    "slideshow": {
     "slide_type": "subslide"
    }
   },
   "source": [
    "Se quisermos expandir ainda mais :"
   ]
  },
  {
   "cell_type": "markdown",
   "metadata": {
    "slideshow": {
     "slide_type": "fragment"
    }
   },
   "source": [
    "$$ \\vec{E}(\\vec{r}_0) = \\frac{R}{4\\pi\\epsilon_0}\\int_0^{2\\,\\pi} \\frac{\\lambda(\\theta')[(x_0 - R\\cos\\theta')\\hat{i}\n",
    "+ (y_0 - R\\sin\\theta')\\,\\hat{j} + z_0\\,\\hat{k}]\\,d\\theta'}{[x_0^2 - 2 x_0 R \\cos\\theta' + R^2\\cos^2\\theta'\n",
    "+ y_0^2 - 2 y_0 R\\sin\\theta' + R^2\\sin^2\\theta' + z_0^2]^{3/2}} $$"
   ]
  },
  {
   "cell_type": "markdown",
   "metadata": {
    "slideshow": {
     "slide_type": "fragment"
    }
   },
   "source": [
    "$$ \\vec{E}(\\vec{r}_0) = \\frac{R}{4\\pi\\epsilon_0}\\int_0^{2\\,\\pi} \\frac{\\lambda(\\theta')[(x_0 - R\\cos\\theta')\\hat{i}\n",
    "+ (y_0 - R\\sin\\theta')\\,\\hat{j} + z_0\\,\\hat{k}]\\,d\\theta'}{[r_0^2 + R^2 - 2R(x_0\\cos\\theta' + y_0\\sin\\theta')]^{3/2}} $$"
   ]
  },
  {
   "cell_type": "markdown",
   "metadata": {
    "slideshow": {
     "slide_type": "fragment"
    }
   },
   "source": [
    "que é uma integral vetorial 3D (igual a 3 integrais simples) que descreve qualquer anel circular carregado eletricamente."
   ]
  },
  {
   "cell_type": "markdown",
   "metadata": {
    "slideshow": {
     "slide_type": "fragment"
    }
   },
   "source": [
    "Tal integral pode ter solução analítica/simbólica em alguns casos de funções $\\lambda(\\theta')$ mais simples e vetor-posição $\\vec{r}_0$ que explore a simetria do anel."
   ]
  },
  {
   "cell_type": "markdown",
   "metadata": {
    "slideshow": {
     "slide_type": "fragment"
    }
   },
   "source": [
    "Mas na maioria dos casos a solução da integral é somente numérica/computacional."
   ]
  },
  {
   "cell_type": "markdown",
   "metadata": {
    "slideshow": {
     "slide_type": "subslide"
    }
   },
   "source": [
    "Expandindo em 3 integrais simples escalares, uma para cada componente tridimensional de $\\vec{E} = \\vec{E}_x\\hat{i} + \\vec{E}_y\\hat{j} + \\vec{E}_z\\hat{k}$ :"
   ]
  },
  {
   "cell_type": "markdown",
   "metadata": {
    "slideshow": {
     "slide_type": "fragment"
    }
   },
   "source": [
    "$$ E_x(\\vec{r}_0) = \\frac{R}{4\\pi\\epsilon_0}\\int_0^{2\\,\\pi} \\frac{\\lambda(\\theta')(x_0 - R\\cos\\theta')\n",
    "\\,d\\theta'}{[r_0^2 + R^2 - 2R(x_0\\cos\\theta' + y_0\\sin\\theta')]^{3/2}}$$"
   ]
  },
  {
   "cell_type": "markdown",
   "metadata": {
    "slideshow": {
     "slide_type": "fragment"
    }
   },
   "source": [
    "$$ E_y(\\vec{r}_0) = \\frac{R}{4\\pi\\epsilon_0}\\int_0^{2\\,\\pi} \\frac{\\lambda(\\theta')(y_0 - R\\sin\\theta')\\,d\\theta'}{[r_0^2 + R^2 - 2R(x_0\\cos\\theta' + y_0\\sin\\theta')]^{3/2}} $$"
   ]
  },
  {
   "cell_type": "markdown",
   "metadata": {
    "slideshow": {
     "slide_type": "fragment"
    }
   },
   "source": [
    "$$ E_z(\\vec{r}_0) = \\frac{R}{4\\pi\\epsilon_0}\\int_0^{2\\,\\pi} \\frac{\\lambda(\\theta')z_0\\,\\hat{k}\\,d\\theta'}{[r_0^2 + R^2 - 2R(x_0\\cos\\theta' + y_0\\sin\\theta')]^{3/2}}$$"
   ]
  },
  {
   "cell_type": "markdown",
   "metadata": {
    "slideshow": {
     "slide_type": "subslide"
    }
   },
   "source": [
    "### Solução de (1.b)"
   ]
  },
  {
   "cell_type": "markdown",
   "metadata": {
    "slideshow": {
     "slide_type": "fragment"
    }
   },
   "source": [
    "Ao restringir o observador (posição da carga-teste) ao longo do eixo $z$ do anel (eixo ortogonal ao plano do anel circular), temos :"
   ]
  },
  {
   "cell_type": "markdown",
   "metadata": {
    "slideshow": {
     "slide_type": "fragment"
    }
   },
   "source": [
    "$$\\vec{r}_0 = (0\\,\\textrm{m})\\,\\hat{\\rho} + z_0\\,\\hat{k} = (0\\,\\textrm{m})\\,\\hat{i} + (0\\,\\textrm{m})\\,\\hat{j} + z_0\\,\\hat{k} = z_0\\,\\hat{k} \\,\\,\\, , \\textrm{onde} \\,\\,\\, |\\vec{r}_0| = |z_0| $$"
   ]
  },
  {
   "cell_type": "markdown",
   "metadata": {
    "slideshow": {
     "slide_type": "fragment"
    }
   },
   "source": [
    "o que simplifica muito a integral, resultando :"
   ]
  },
  {
   "cell_type": "markdown",
   "metadata": {
    "slideshow": {
     "slide_type": "fragment"
    }
   },
   "source": [
    "$$ \\vec{E}(\\vec{r}_0) = \\vec{E}(z_0) = \\frac{R}{4\\pi\\epsilon_0}\\int_0^{2\\,\\pi} \\frac{\\lambda(\\theta')[(- R\\cos\\theta')\\hat{i}\n",
    "+ (- R\\sin\\theta')\\,\\hat{j} + z_0\\,\\hat{k}]\\,d\\theta'}{(z_0^2 + R^2)^{3/2}} \\,\\,\\, \\rightarrow $$"
   ]
  },
  {
   "cell_type": "markdown",
   "metadata": {
    "slideshow": {
     "slide_type": "fragment"
    }
   },
   "source": [
    "$$ \\rightarrow \\,\\,\\, \\vec{E}(\\vec{r}_0) = \\vec{E}(z_0) = \\frac{R}{4\\pi\\epsilon_0 (z_0^2 + R^2)^{3/2}}\\int_0^{2\\,\\pi} \\lambda(\\theta')[(- R\\cos\\theta')\\hat{i}\n",
    "+ (- R\\sin\\theta')\\,\\hat{j} + z_0\\,\\hat{k}]\\,d\\theta' $$"
   ]
  },
  {
   "cell_type": "markdown",
   "metadata": {
    "slideshow": {
     "slide_type": "fragment"
    }
   },
   "source": [
    "Tal integral pode ter solução analítica/simbólica só em certos casos de $\\lambda(\\theta')$, senão só solução numérica."
   ]
  },
  {
   "cell_type": "markdown",
   "metadata": {
    "slideshow": {
     "slide_type": "subslide"
    }
   },
   "source": [
    "### Solução de (1.c)"
   ]
  },
  {
   "cell_type": "markdown",
   "metadata": {
    "slideshow": {
     "slide_type": "fragment"
    }
   },
   "source": [
    "Ao restringir para distribuição homogênea de carga elétrica no anel, i. e., $\\lambda(\\vec{r}') = \\lambda_0 = \\textrm{cte}$, temos uma leve simplificação da integral :"
   ]
  },
  {
   "cell_type": "markdown",
   "metadata": {
    "slideshow": {
     "slide_type": "fragment"
    }
   },
   "source": [
    "$$ \\vec{E}(\\vec{r}_0) = \\frac{\\lambda_0 R}{4\\pi\\epsilon_0}\\int_0^{2\\,\\pi} \\frac{(\\vec{r}_0-\\vec{r}')\\,d\\theta'}{|\\vec{r}_0-\\vec{r}'|^3} \\,\\,\\, \\rightarrow $$"
   ]
  },
  {
   "cell_type": "markdown",
   "metadata": {
    "slideshow": {
     "slide_type": "fragment"
    }
   },
   "source": [
    "$$ \\rightarrow \\,\\,\\, \\vec{E}(\\vec{r}_0) = \\frac{\\lambda_0 R}{4\\pi\\epsilon_0}\\int_0^{2\\,\\pi} \\frac{[(x_0 - R\\cos\\theta')\\hat{i}\n",
    "+ (y_0 - R\\sin\\theta')\\,\\hat{j} + z_0\\,\\hat{k}]\\,d\\theta'}{|(x_0 - R\\cos\\theta')\\hat{i}\n",
    "+ (y_0 - R\\sin\\theta')\\,\\hat{j} + z_0\\,\\hat{k}|^3} \\,\\,\\, \\rightarrow $$"
   ]
  },
  {
   "cell_type": "markdown",
   "metadata": {
    "slideshow": {
     "slide_type": "fragment"
    }
   },
   "source": [
    "$$ \\rightarrow \\,\\,\\, \\vec{E}(\\vec{r}_0) = \\frac{\\lambda_0 R}{4\\pi\\epsilon_0}\\int_0^{2\\,\\pi} \\frac{[(x_0 - R\\cos\\theta')\\hat{i}\n",
    "+ (y_0 - R\\sin\\theta')\\,\\hat{j} + z_0\\,\\hat{k}]\\,d\\theta'}{[r_0^2 + R^2 - 2R(x_0\\cos\\theta' + y_0\\sin\\theta')]^{3/2}} $$"
   ]
  },
  {
   "cell_type": "markdown",
   "metadata": {
    "slideshow": {
     "slide_type": "fragment"
    }
   },
   "source": [
    "Tal integral pode ter solução analítica/simbólica em alguns casos de vetor-posição $\\vec{r}_0$ que explore a simetria do anel, senão só solução numérica/computacional."
   ]
  },
  {
   "cell_type": "markdown",
   "metadata": {
    "slideshow": {
     "slide_type": "subslide"
    }
   },
   "source": [
    "### Solução de (1.d)"
   ]
  },
  {
   "cell_type": "markdown",
   "metadata": {
    "slideshow": {
     "slide_type": "fragment"
    }
   },
   "source": [
    "Ao restringir :"
   ]
  },
  {
   "cell_type": "markdown",
   "metadata": {
    "slideshow": {
     "slide_type": "fragment"
    }
   },
   "source": [
    "- o observador (posição da carga-teste) ao longo do eixo $z$ do anel (eixo ortogonal ao plano do anel circular), temos $\\vec{r}_0 = z_0\\,\\hat{k}$ e $|\\vec{r}_0| = |z_0|$;"
   ]
  },
  {
   "cell_type": "markdown",
   "metadata": {
    "slideshow": {
     "slide_type": "fragment"
    }
   },
   "source": [
    "- para distribuição homogênea de carga elétrica no anel, i. e., densidade linear de carga elétrica constante, $\\lambda(\\vec{r}') = \\lambda_0 = \\textrm{cte}$;"
   ]
  },
  {
   "cell_type": "markdown",
   "metadata": {
    "slideshow": {
     "slide_type": "fragment"
    }
   },
   "source": [
    "então ocorre uma grande simplificação da integral, por isso tal caso é o mais usado na literatura :"
   ]
  },
  {
   "cell_type": "markdown",
   "metadata": {
    "slideshow": {
     "slide_type": "fragment"
    }
   },
   "source": [
    "$$ \\vec{E}(\\vec{r}_0) = \\vec{E}(z_0) = \\frac{\\lambda_0 R}{4\\pi\\epsilon_0 (z_0^2 + R^2)^{3/2}}\\int_0^{2\\,\\pi} [(- R\\cos\\theta')\\,\\hat{i}\n",
    "+ (- R\\sin\\theta')\\,\\hat{j} + z_0\\,\\hat{k}]\\,d\\theta' \\,\\,\\, \\rightarrow $$"
   ]
  },
  {
   "cell_type": "markdown",
   "metadata": {
    "slideshow": {
     "slide_type": "subslide"
    }
   },
   "source": [
    "$$ \\rightarrow \\,\\,\\, \\vec{E}(z_0) = \\frac{\\lambda_0 R}{4\\pi\\epsilon_0 (z_0^2 + R^2)^{3/2}}\\left\\{- R\\,\\hat{i} \\int_0^{2\\,\\pi} \\cos\\theta'\\,d\\theta' - R\\,\\hat{j} \\int_0^{2\\,\\pi} \\sin\\theta'\\,d\\theta' + z_0\\,\\hat{k} \\int_0^{2\\,\\pi} \\,d\\theta' \\right\\} $$"
   ]
  },
  {
   "cell_type": "markdown",
   "metadata": {
    "slideshow": {
     "slide_type": "fragment"
    }
   },
   "source": [
    "Calculando as três integrais, as duas primeiras são nulas por serem integrais de seno e cosseno em um período completo :"
   ]
  },
  {
   "cell_type": "markdown",
   "metadata": {
    "slideshow": {
     "slide_type": "fragment"
    }
   },
   "source": [
    "$$ \\rightarrow \\,\\,\\, \\vec{E}(z_0) = \\frac{\\lambda_0 R}{4\\pi\\epsilon_0 (z_0^2 + R^2)^{3/2}}\\left\\{(0\\,\\textrm{m})\\,\\hat{i} + (0\\,\\textrm{m})\\,\\hat{j} + 2\\,\\pi\\,z_0\\,\\hat{k} \\right\\} $$"
   ]
  },
  {
   "cell_type": "markdown",
   "metadata": {
    "slideshow": {
     "slide_type": "fragment"
    }
   },
   "source": [
    "$$ \\rightarrow \\,\\,\\, \\vec{E}(z_0) = \\frac{\\lambda_0 R\\,z_0}{2\\epsilon_0 (z_0^2 + R^2)^{3/2}} \\hat{k}$$"
   ]
  },
  {
   "cell_type": "markdown",
   "metadata": {
    "slideshow": {
     "slide_type": "fragment"
    }
   },
   "source": [
    "ou seja, em um anel circular carregado eletricamente de forma homogênea, o campo elétrico medido ao longo do eixo do anel só depende da distância $z_0$ ao anel, do raio $R$ do anel e da densidade linear de carga elétrica $\\lambda_0$. "
   ]
  },
  {
   "cell_type": "markdown",
   "metadata": {
    "slideshow": {
     "slide_type": "subslide"
    }
   },
   "source": [
    "Pode-se reescrever esse resultado em termos da carga elétrica total $Q$ do anel com distribuição homogênea de carga elétrica, i. e., com densidade linear de carga elétrica constante, $\\lambda(\\vec{r}') = \\lambda(\\theta') = \\lambda_0 = \\textrm{cte}$ :"
   ]
  },
  {
   "cell_type": "markdown",
   "metadata": {
    "slideshow": {
     "slide_type": "fragment"
    }
   },
   "source": [
    "$$ Q = \\int_C dq' = \\int_C \\lambda(\\vec{r}')\\,ds' = \\int_0^{2\\,\\pi} \\lambda(\\theta') R\\,d\\theta' = \\lambda_0 R \\int_0^{2\\,\\pi} d\\theta' \\,\\,\\, \\rightarrow \\,\\,\\,  Q = 2\\pi R \\lambda_0 $$"
   ]
  },
  {
   "cell_type": "markdown",
   "metadata": {
    "slideshow": {
     "slide_type": "fragment"
    }
   },
   "source": [
    "$$ \\rightarrow \\,\\,\\, \\vec{E}(z_0) = \\frac{Q\\,z_0}{4\\pi\\epsilon_0 (z_0^2 + R^2)^{3/2}} \\hat{k}$$"
   ]
  },
  {
   "cell_type": "markdown",
   "metadata": {
    "slideshow": {
     "slide_type": "slide"
    }
   },
   "source": [
    "## Exemplo 2 : Disco circular carregado eletricamente"
   ]
  },
  {
   "cell_type": "markdown",
   "metadata": {
    "slideshow": {
     "slide_type": "fragment"
    }
   },
   "source": [
    "O campo elétrico $\\vec{E}$ para o caso genérico de disco circular carregado eletricamente deve ser resolvido via integral de superfície com densidade superficial de carga elétrica, $\\sigma(\\vec{r}')$ na superfície $S$ do disco :"
   ]
  },
  {
   "cell_type": "markdown",
   "metadata": {
    "slideshow": {
     "slide_type": "fragment"
    }
   },
   "source": [
    "$$ \\vec{E}(\\vec{r}_0) = \\frac{1}{4\\pi\\epsilon_0}\\int\\int_S \\frac{\\sigma(\\vec{r}')\\,\\vec{r}\\,dA'}{|\\vec{r}|^3} = \\frac{1}{4\\pi\\epsilon_0}\\int\\int_S \\frac{\\sigma(\\vec{r}')(\\vec{r}_0-\\vec{r}')\\,dA'}{|\\vec{r}_0-\\vec{r}'|^3} $$"
   ]
  },
  {
   "cell_type": "markdown",
   "metadata": {
    "slideshow": {
     "slide_type": "fragment"
    }
   },
   "source": [
    "Mas vamos calcular o campo elétrico $\\vec{E}$ criado por um disco circular carregado eletricamente, porém restringindo o observador ao longo do eixo do disco (eixo ortogonal ao plano do disco circular), bem como restringindo para distribuição homogênea de carga elétrica no disco."
   ]
  },
  {
   "cell_type": "markdown",
   "metadata": {
    "slideshow": {
     "slide_type": "subslide"
    }
   },
   "source": [
    "Pode-se usar o resultado anterior (1.d) para anel circular carregado eletricamente :"
   ]
  },
  {
   "cell_type": "markdown",
   "metadata": {
    "slideshow": {
     "slide_type": "fragment"
    }
   },
   "source": [
    "$$ d\\vec{E} = \\frac{dQ\\,z_0}{4\\pi\\epsilon_0 (z_0^2 + \\rho'^2)^{3/2}} \\hat{k}$$"
   ]
  },
  {
   "cell_type": "markdown",
   "metadata": {
    "slideshow": {
     "slide_type": "fragment"
    }
   },
   "source": [
    "onde no disco $dQ = \\sigma\\,dA' = 2\\pi \\rho' \\lambda_0 d\\rho' $ :"
   ]
  },
  {
   "cell_type": "markdown",
   "metadata": {
    "slideshow": {
     "slide_type": "fragment"
    }
   },
   "source": [
    "$$ d\\vec{E} = \\frac{2\\pi\\,z_0\\,\\rho'\\lambda_0 d\\rho'}{4\\pi\\epsilon_0 (z_0^2 + \\rho'^2)^{3/2}} \\hat{k} $$"
   ]
  },
  {
   "cell_type": "markdown",
   "metadata": {
    "slideshow": {
     "slide_type": "fragment"
    }
   },
   "source": [
    "tal que basta integrar em relação a $\\rho'$ de $0$ a ao raio $R$ do disco :"
   ]
  },
  {
   "cell_type": "markdown",
   "metadata": {
    "slideshow": {
     "slide_type": "fragment"
    }
   },
   "source": [
    "(CONTINUA NA AULA SEGUINTE...)"
   ]
  }
 ],
 "metadata": {
  "celltoolbar": "Slideshow",
  "kernelspec": {
   "display_name": "Python 3",
   "language": "python",
   "name": "python3"
  },
  "language_info": {
   "codemirror_mode": {
    "name": "ipython",
    "version": 3
   },
   "file_extension": ".py",
   "mimetype": "text/x-python",
   "name": "python",
   "nbconvert_exporter": "python",
   "pygments_lexer": "ipython3",
   "version": "3.8.10"
  }
 },
 "nbformat": 4,
 "nbformat_minor": 2
}
